{
 "cells": [
  {
   "cell_type": "markdown",
   "metadata": {},
   "source": [
    "reference:\n",
    "http://www.nltk.org/howto/wordnet.html\n",
    "\n",
    "list of categories:\n",
    "http://www.phmartin.info/CGKAT/ontologies/coWordNet.html\n",
    "\n",
    "compare categories of two nouns:\n",
    "http://www.nltk.org/howto/wordnet_lch.html"
   ]
  },
  {
   "cell_type": "code",
   "execution_count": 2,
   "metadata": {
    "collapsed": true
   },
   "outputs": [],
   "source": [
    "from nltk.corpus import wordnet as wn\n"
   ]
  },
  {
   "cell_type": "code",
   "execution_count": 3,
   "metadata": {
    "collapsed": false
   },
   "outputs": [
    {
     "name": "stdout",
     "output_type": "stream",
     "text": [
      "Lemmas:  ['business', 'concern', 'business_concern', 'business_organization', 'business_organisation'] \n",
      "\n",
      "Definition:  a commercial or industrial enterprise and the people who constitute it \n",
      "\n",
      "HypOnyms (more specific):  [Synset('agency.n.02'), Synset('brokerage.n.02'), Synset('carrier.n.05'), Synset('chain.n.04'), Synset('firm.n.01'), Synset('franchise.n.02'), Synset('manufacturer.n.01'), Synset('partnership.n.01'), Synset('processor.n.01'), Synset('shipbuilder.n.03'), Synset('underperformer.n.02')] \n",
      "\n",
      "HypErnyms(more general): \n",
      " Synset('business.n.01') [Synset('enterprise.n.02')]\n",
      "HypErnyms(more general): \n",
      " Synset('commercial_enterprise.n.02') [Synset('commerce.n.01')]\n",
      "HypErnyms(more general): \n",
      " Synset('occupation.n.01') [Synset('activity.n.01')]\n",
      "HypErnyms(more general): \n",
      " Synset('business.n.04') [Synset('concern.n.04')]\n",
      "HypErnyms(more general): \n",
      " Synset('business.n.05') [Synset('aim.n.02')]\n",
      "HypErnyms(more general): \n",
      " Synset('business.n.06') [Synset('business_activity.n.01')]\n",
      "HypErnyms(more general): \n",
      " Synset('business.n.07') [Synset('sector.n.02')]\n",
      "HypErnyms(more general): \n",
      " Synset('clientele.n.01') [Synset('people.n.01')]\n",
      "HypErnyms(more general): \n",
      " Synset('business.n.09') [Synset('acting.n.01')]\n"
     ]
    }
   ],
   "source": [
    "\n",
    "set1 = wn.synsets('business', 'n')[0]\n",
    "# set2 = wn.synsets('', 'n')[0]\n",
    "print(\"Lemmas: \", set1.lemma_names(), '\\n')\n",
    "print(\"Definition: \", set1.definition(), '\\n')\n",
    "# print(\"HypErnyms (more general): \", set1.common_hypernyms(set2), '\\n')\n",
    "print(\"HypOnyms (more specific): \", set1.hyponyms(), '\\n')\n",
    "\n",
    "for ss in wn.synsets('business'):\n",
    "    print(\"HypErnyms(more general): \\n\", ss, ss.hypernyms())\n"
   ]
  },
  {
   "cell_type": "code",
   "execution_count": 4,
   "metadata": {
    "collapsed": true
   },
   "outputs": [],
   "source": [
    "def categorize(noun, level=0):\n",
    "    \"\"\"\n",
    "    returns a category for the given noun\n",
    "    \"\"\"\n",
    "    try: \n",
    "        noun_syns = wn.synsets(noun, 'n')[0]\n",
    "        category = noun_syns.hypernym_paths()[0][level]\n",
    "        return category.name()\n",
    "    except IndexError:\n",
    "        return None\n",
    "    \n",
    "    "
   ]
  },
  {
   "cell_type": "code",
   "execution_count": 5,
   "metadata": {
    "collapsed": false
   },
   "outputs": [
    {
     "data": {
      "text/plain": [
       "'whole.n.02'"
      ]
     },
     "execution_count": 5,
     "metadata": {},
     "output_type": "execute_result"
    }
   ],
   "source": [
    "categorize(\"rabbit\", level=3)"
   ]
  },
  {
   "cell_type": "code",
   "execution_count": 6,
   "metadata": {
    "collapsed": false
   },
   "outputs": [
    {
     "name": "stdout",
     "output_type": "stream",
     "text": [
      "[Synset('region.n.03')]\n",
      "[Synset('area.n.02')]\n",
      "[Synset('geographical_area.n.01')]\n"
     ]
    }
   ],
   "source": [
    "for syn in wn.synsets(\"territory\", 'n'):\n",
    "    print(syn.hypernyms())"
   ]
  },
  {
   "cell_type": "code",
   "execution_count": 7,
   "metadata": {
    "collapsed": false
   },
   "outputs": [
    {
     "ename": "ValueError",
     "evalue": "not enough values to unpack (expected 3, got 1)",
     "output_type": "error",
     "traceback": [
      "\u001b[0;31m---------------------------------------------------------------------------\u001b[0m",
      "\u001b[0;31mValueError\u001b[0m                                Traceback (most recent call last)",
      "\u001b[0;32m<ipython-input-7-93574fea2f92>\u001b[0m in \u001b[0;36m<module>\u001b[0;34m()\u001b[0m\n\u001b[0;32m----> 1\u001b[0;31m \u001b[0mdog_syn\u001b[0m \u001b[0;34m=\u001b[0m \u001b[0mwn\u001b[0m\u001b[0;34m.\u001b[0m\u001b[0msynset\u001b[0m\u001b[0;34m(\u001b[0m\u001b[0;34m\"dog\"\u001b[0m\u001b[0;34m)\u001b[0m\u001b[0;34m\u001b[0m\u001b[0m\n\u001b[0m\u001b[1;32m      2\u001b[0m \u001b[0mdog_syn\u001b[0m\u001b[0;34m.\u001b[0m\u001b[0mhypernyms\u001b[0m\u001b[0;34m(\u001b[0m\u001b[0;34m)\u001b[0m\u001b[0;34m\u001b[0m\u001b[0m\n",
      "\u001b[0;32m/usr/local/lib/python3.5/site-packages/nltk/corpus/reader/wordnet.py\u001b[0m in \u001b[0;36msynset\u001b[0;34m(self, name)\u001b[0m\n\u001b[1;32m   1227\u001b[0m     \u001b[0;32mdef\u001b[0m \u001b[0msynset\u001b[0m\u001b[0;34m(\u001b[0m\u001b[0mself\u001b[0m\u001b[0;34m,\u001b[0m \u001b[0mname\u001b[0m\u001b[0;34m)\u001b[0m\u001b[0;34m:\u001b[0m\u001b[0;34m\u001b[0m\u001b[0m\n\u001b[1;32m   1228\u001b[0m         \u001b[0;31m# split name into lemma, part of speech and synset number\u001b[0m\u001b[0;34m\u001b[0m\u001b[0;34m\u001b[0m\u001b[0m\n\u001b[0;32m-> 1229\u001b[0;31m         \u001b[0mlemma\u001b[0m\u001b[0;34m,\u001b[0m \u001b[0mpos\u001b[0m\u001b[0;34m,\u001b[0m \u001b[0msynset_index_str\u001b[0m \u001b[0;34m=\u001b[0m \u001b[0mname\u001b[0m\u001b[0;34m.\u001b[0m\u001b[0mlower\u001b[0m\u001b[0;34m(\u001b[0m\u001b[0;34m)\u001b[0m\u001b[0;34m.\u001b[0m\u001b[0mrsplit\u001b[0m\u001b[0;34m(\u001b[0m\u001b[0;34m'.'\u001b[0m\u001b[0;34m,\u001b[0m \u001b[0;36m2\u001b[0m\u001b[0;34m)\u001b[0m\u001b[0;34m\u001b[0m\u001b[0m\n\u001b[0m\u001b[1;32m   1230\u001b[0m         \u001b[0msynset_index\u001b[0m \u001b[0;34m=\u001b[0m \u001b[0mint\u001b[0m\u001b[0;34m(\u001b[0m\u001b[0msynset_index_str\u001b[0m\u001b[0;34m)\u001b[0m \u001b[0;34m-\u001b[0m \u001b[0;36m1\u001b[0m\u001b[0;34m\u001b[0m\u001b[0m\n\u001b[1;32m   1231\u001b[0m \u001b[0;34m\u001b[0m\u001b[0m\n",
      "\u001b[0;31mValueError\u001b[0m: not enough values to unpack (expected 3, got 1)"
     ]
    }
   ],
   "source": [
    "dog_syn = wn.synset(\"dog\")\n",
    "dog_syn.hypernyms()"
   ]
  },
  {
   "cell_type": "code",
   "execution_count": 8,
   "metadata": {
    "collapsed": false
   },
   "outputs": [
    {
     "data": {
      "text/plain": [
       "'entity.n.01'"
      ]
     },
     "execution_count": 8,
     "metadata": {},
     "output_type": "execute_result"
    }
   ],
   "source": [
    "categorize(\"cafe\")"
   ]
  },
  {
   "cell_type": "code",
   "execution_count": 46,
   "metadata": {
    "collapsed": false
   },
   "outputs": [
    {
     "data": {
      "text/plain": [
       "'electronic_equipment.n.01'"
      ]
     },
     "execution_count": 46,
     "metadata": {},
     "output_type": "execute_result"
    }
   ],
   "source": [
    "categorize(\"phone\")"
   ]
  },
  {
   "cell_type": "code",
   "execution_count": 47,
   "metadata": {
    "collapsed": false
   },
   "outputs": [],
   "source": [
    "categorize(\"earth\")"
   ]
  },
  {
   "cell_type": "code",
   "execution_count": 48,
   "metadata": {
    "collapsed": false
   },
   "outputs": [
    {
     "data": {
      "text/plain": [
       "'array.n.01'"
      ]
     },
     "execution_count": 48,
     "metadata": {},
     "output_type": "execute_result"
    }
   ],
   "source": [
    "categorize(\"table\")"
   ]
  },
  {
   "cell_type": "code",
   "execution_count": 49,
   "metadata": {
    "collapsed": false
   },
   "outputs": [
    {
     "data": {
      "text/plain": [
       "'publication.n.01'"
      ]
     },
     "execution_count": 49,
     "metadata": {},
     "output_type": "execute_result"
    }
   ],
   "source": [
    "categorize(\"book\")"
   ]
  },
  {
   "cell_type": "code",
   "execution_count": 50,
   "metadata": {
    "collapsed": false
   },
   "outputs": [
    {
     "data": {
      "text/plain": [
       "'machine.n.01'"
      ]
     },
     "execution_count": 50,
     "metadata": {},
     "output_type": "execute_result"
    }
   ],
   "source": [
    "categorize(\"computer\")"
   ]
  },
  {
   "cell_type": "code",
   "execution_count": 51,
   "metadata": {
    "collapsed": false
   },
   "outputs": [
    {
     "data": {
      "text/plain": [
       "'beverage.n.01'"
      ]
     },
     "execution_count": 51,
     "metadata": {},
     "output_type": "execute_result"
    }
   ],
   "source": [
    "categorize(\"coffee\")"
   ]
  },
  {
   "cell_type": "code",
   "execution_count": 52,
   "metadata": {
    "collapsed": true
   },
   "outputs": [],
   "source": [
    "categorize(\"green coffee\")"
   ]
  },
  {
   "cell_type": "code",
   "execution_count": 53,
   "metadata": {
    "collapsed": false
   },
   "outputs": [
    {
     "data": {
      "text/plain": [
       "'medium_of_exchange.n.01'"
      ]
     },
     "execution_count": 53,
     "metadata": {},
     "output_type": "execute_result"
    }
   ],
   "source": [
    "categorize(\"money\")"
   ]
  },
  {
   "cell_type": "code",
   "execution_count": 54,
   "metadata": {
    "collapsed": false
   },
   "outputs": [
    {
     "data": {
      "text/plain": [
       "'solid.n.01'"
      ]
     },
     "execution_count": 54,
     "metadata": {},
     "output_type": "execute_result"
    }
   ],
   "source": [
    "categorize(\"plastic\")"
   ]
  },
  {
   "cell_type": "code",
   "execution_count": 32,
   "metadata": {
    "collapsed": false
   },
   "outputs": [
    {
     "data": {
      "text/plain": [
       "'abstraction.n.06'"
      ]
     },
     "execution_count": 32,
     "metadata": {},
     "output_type": "execute_result"
    }
   ],
   "source": [
    "categorize(\"emotion\", level=1)"
   ]
  },
  {
   "cell_type": "markdown",
   "metadata": {},
   "source": [
    "## Most Common Nouns"
   ]
  },
  {
   "cell_type": "code",
   "execution_count": 9,
   "metadata": {
    "collapsed": false
   },
   "outputs": [],
   "source": [
    "noun_list = []\n",
    "with open(\"nounlist.txt\", \"r\") as f:\n",
    "    for w in f:\n",
    "        noun_list.append(w.strip())\n",
    "        "
   ]
  },
  {
   "cell_type": "code",
   "execution_count": 33,
   "metadata": {
    "collapsed": false
   },
   "outputs": [
    {
     "ename": "TypeError",
     "evalue": "argument of type 'NoneType' is not iterable",
     "output_type": "error",
     "traceback": [
      "\u001b[0;31m---------------------------------------------------------------------------\u001b[0m",
      "\u001b[0;31mTypeError\u001b[0m                                 Traceback (most recent call last)",
      "\u001b[0;32m<ipython-input-33-750cd2d32f03>\u001b[0m in \u001b[0;36m<module>\u001b[0;34m()\u001b[0m\n\u001b[0;32m----> 1\u001b[0;31m \u001b[0;34m\"c\"\u001b[0m \u001b[0;32min\u001b[0m \u001b[0;32mNone\u001b[0m\u001b[0;34m\u001b[0m\u001b[0m\n\u001b[0m",
      "\u001b[0;31mTypeError\u001b[0m: argument of type 'NoneType' is not iterable"
     ]
    }
   ],
   "source": [
    "\"c\" in None"
   ]
  },
  {
   "cell_type": "code",
   "execution_count": 59,
   "metadata": {
    "collapsed": false
   },
   "outputs": [
    {
     "data": {
      "text/plain": [
       "['aardvark',\n",
       " 'abyssinian',\n",
       " 'accelerator',\n",
       " 'accordion',\n",
       " 'account',\n",
       " 'accountant',\n",
       " 'acknowledgment',\n",
       " 'acoustic',\n",
       " 'acrylic',\n",
       " 'act',\n",
       " 'action',\n",
       " 'active',\n",
       " 'activity',\n",
       " 'actor',\n",
       " 'actress',\n",
       " 'adapter',\n",
       " 'addition',\n",
       " 'address',\n",
       " 'adjustment',\n",
       " 'adult',\n",
       " 'advantage',\n",
       " 'advertisement',\n",
       " 'advice',\n",
       " 'afghanistan',\n",
       " 'africa',\n",
       " 'aftermath',\n",
       " 'afternoon',\n",
       " 'aftershave',\n",
       " 'afterthought',\n",
       " 'age',\n",
       " 'agenda',\n",
       " 'agreement',\n",
       " 'air',\n",
       " 'airbus',\n",
       " 'airmail',\n",
       " 'airplane',\n",
       " 'airport',\n",
       " 'airship',\n",
       " 'alarm',\n",
       " 'albatross',\n",
       " 'alcohol',\n",
       " 'algebra',\n",
       " 'algeria',\n",
       " 'alibi',\n",
       " 'alley',\n",
       " 'alligator',\n",
       " 'alloy',\n",
       " 'almanac',\n",
       " 'alphabet',\n",
       " 'alto',\n",
       " 'aluminium',\n",
       " 'aluminum',\n",
       " 'ambulance',\n",
       " 'america',\n",
       " 'amount',\n",
       " 'amusement',\n",
       " 'anatomy',\n",
       " 'anethesiologist',\n",
       " 'anger',\n",
       " 'angle',\n",
       " 'angora',\n",
       " 'animal',\n",
       " 'anime',\n",
       " 'ankle',\n",
       " 'answer',\n",
       " 'ant',\n",
       " 'antarctica',\n",
       " 'anteater',\n",
       " 'antelope',\n",
       " 'anthony',\n",
       " 'anthropology',\n",
       " 'apartment',\n",
       " 'apology',\n",
       " 'apparatus',\n",
       " 'apparel',\n",
       " 'appeal',\n",
       " 'appendix',\n",
       " 'apple',\n",
       " 'appliance',\n",
       " 'approval',\n",
       " 'april',\n",
       " 'aquarius',\n",
       " 'arch',\n",
       " 'archaeology',\n",
       " 'archeology',\n",
       " 'archer',\n",
       " 'architecture',\n",
       " 'area',\n",
       " 'argentina',\n",
       " 'argument',\n",
       " 'aries',\n",
       " 'arithmetic',\n",
       " 'arm',\n",
       " 'armadillo',\n",
       " 'armchair',\n",
       " 'armenian',\n",
       " 'army',\n",
       " 'arrow',\n",
       " 'art',\n",
       " 'ash',\n",
       " 'ashtray',\n",
       " 'asia',\n",
       " 'asparagus',\n",
       " 'asphalt',\n",
       " 'asterisk',\n",
       " 'astronomy',\n",
       " 'athlete',\n",
       " 'atm',\n",
       " 'atom',\n",
       " 'attack',\n",
       " 'attempt',\n",
       " 'attention',\n",
       " 'attic',\n",
       " 'attraction',\n",
       " 'august',\n",
       " 'aunt',\n",
       " 'australia',\n",
       " 'australian',\n",
       " 'author',\n",
       " 'authorisation',\n",
       " 'authority',\n",
       " 'authorization',\n",
       " 'avenue',\n",
       " 'babies',\n",
       " 'baboon',\n",
       " 'baby',\n",
       " 'back',\n",
       " 'backbone',\n",
       " 'bacon',\n",
       " 'badge',\n",
       " 'badger',\n",
       " 'bag',\n",
       " 'bagel',\n",
       " 'bagpipe',\n",
       " 'bail',\n",
       " 'bait',\n",
       " 'baker',\n",
       " 'bakery',\n",
       " 'balance',\n",
       " 'balinese',\n",
       " 'ball',\n",
       " 'balloon',\n",
       " 'bamboo',\n",
       " 'banana',\n",
       " 'band',\n",
       " 'bandana',\n",
       " 'bangladesh',\n",
       " 'bangle',\n",
       " 'banjo',\n",
       " 'bank',\n",
       " 'bankbook',\n",
       " 'banker',\n",
       " 'bar',\n",
       " 'barbara',\n",
       " 'barber',\n",
       " 'barge',\n",
       " 'baritone',\n",
       " 'barometer',\n",
       " 'base',\n",
       " 'baseball',\n",
       " 'basement',\n",
       " 'basin',\n",
       " 'basket',\n",
       " 'basketball',\n",
       " 'bass',\n",
       " 'bassoon',\n",
       " 'bat',\n",
       " 'bath',\n",
       " 'bathroom',\n",
       " 'bathtub',\n",
       " 'battery',\n",
       " 'battle',\n",
       " 'bay',\n",
       " 'beach',\n",
       " 'bead',\n",
       " 'beam',\n",
       " 'bean',\n",
       " 'bear',\n",
       " 'beard',\n",
       " 'beast',\n",
       " 'beat',\n",
       " 'beautician',\n",
       " 'beauty',\n",
       " 'beaver',\n",
       " 'bed',\n",
       " 'bedroom',\n",
       " 'bee',\n",
       " 'beech',\n",
       " 'beef',\n",
       " 'beer',\n",
       " 'beet',\n",
       " 'beetle',\n",
       " 'beggar',\n",
       " 'beginner',\n",
       " 'begonia',\n",
       " 'behavior',\n",
       " 'belgian',\n",
       " 'belief',\n",
       " 'believe',\n",
       " 'bell',\n",
       " 'belt',\n",
       " 'bench',\n",
       " 'bengal',\n",
       " 'beret',\n",
       " 'berry',\n",
       " 'bestseller',\n",
       " 'betty',\n",
       " 'bibliography',\n",
       " 'bicycle',\n",
       " 'bike',\n",
       " 'bill',\n",
       " 'billboard',\n",
       " 'biology',\n",
       " 'biplane',\n",
       " 'birch',\n",
       " 'bird',\n",
       " 'birth',\n",
       " 'birthday',\n",
       " 'bit',\n",
       " 'bite',\n",
       " 'black',\n",
       " 'bladder',\n",
       " 'blade',\n",
       " 'blanket',\n",
       " 'blinker',\n",
       " 'blizzard',\n",
       " 'block',\n",
       " 'blood',\n",
       " 'blouse',\n",
       " 'blow',\n",
       " 'blowgun',\n",
       " 'blue',\n",
       " 'board',\n",
       " 'boat',\n",
       " 'bobcat',\n",
       " 'body',\n",
       " 'bolt',\n",
       " 'bomb',\n",
       " 'bomber',\n",
       " 'bone',\n",
       " 'bongo',\n",
       " 'bonsai',\n",
       " 'book',\n",
       " 'bookcase',\n",
       " 'booklet',\n",
       " 'boot',\n",
       " 'border',\n",
       " 'botany',\n",
       " 'bottle',\n",
       " 'bottom',\n",
       " 'boundary',\n",
       " 'bow',\n",
       " 'bowl',\n",
       " 'bowling',\n",
       " 'box',\n",
       " 'boy',\n",
       " 'bra',\n",
       " 'brace',\n",
       " 'bracket',\n",
       " 'brain',\n",
       " 'brake',\n",
       " 'branch',\n",
       " 'brand',\n",
       " 'brandy',\n",
       " 'brass',\n",
       " 'brazil',\n",
       " 'bread',\n",
       " 'break',\n",
       " 'breakfast',\n",
       " 'breath',\n",
       " 'brian',\n",
       " 'brick',\n",
       " 'bridge',\n",
       " 'british',\n",
       " 'broccoli',\n",
       " 'brochure',\n",
       " 'broker',\n",
       " 'bronze',\n",
       " 'brother',\n",
       " 'brother-in-law',\n",
       " 'brow',\n",
       " 'brown',\n",
       " 'brush',\n",
       " 'bubble',\n",
       " 'bucket',\n",
       " 'budget',\n",
       " 'buffer',\n",
       " 'buffet',\n",
       " 'bugle',\n",
       " 'building',\n",
       " 'bulb',\n",
       " 'bull',\n",
       " 'bulldozer',\n",
       " 'bumper',\n",
       " 'bun',\n",
       " 'burglar',\n",
       " 'burma',\n",
       " 'burn',\n",
       " 'burst',\n",
       " 'bus',\n",
       " 'bush',\n",
       " 'business',\n",
       " 'butane',\n",
       " 'butcher',\n",
       " 'butter',\n",
       " 'button',\n",
       " 'buzzard',\n",
       " 'cabbage',\n",
       " 'cabinet',\n",
       " 'cable',\n",
       " 'cactus',\n",
       " 'cafe',\n",
       " 'cake',\n",
       " 'calculator',\n",
       " 'calculus',\n",
       " 'calendar',\n",
       " 'calf',\n",
       " 'call',\n",
       " 'camel',\n",
       " 'camera',\n",
       " 'camp',\n",
       " 'can',\n",
       " 'canada',\n",
       " 'canadian',\n",
       " 'cancer',\n",
       " 'candle',\n",
       " 'cannon',\n",
       " 'canoe',\n",
       " 'canvas',\n",
       " 'cap',\n",
       " 'capital',\n",
       " 'cappelletti',\n",
       " 'capricorn',\n",
       " 'captain',\n",
       " 'caption',\n",
       " 'car',\n",
       " 'caravan',\n",
       " 'carbon',\n",
       " 'card',\n",
       " 'cardboard',\n",
       " 'cardigan',\n",
       " 'care',\n",
       " 'carnation',\n",
       " 'carol',\n",
       " 'carp',\n",
       " 'carpenter',\n",
       " 'carriage',\n",
       " 'carrot',\n",
       " 'cart',\n",
       " 'cartoon',\n",
       " 'case',\n",
       " 'cast',\n",
       " 'castanet',\n",
       " 'cat',\n",
       " 'catamaran',\n",
       " 'caterpillar',\n",
       " 'cathedral',\n",
       " 'catsup',\n",
       " 'cattle',\n",
       " 'cauliflower',\n",
       " 'cause',\n",
       " 'caution',\n",
       " 'cave',\n",
       " 'c-clamp',\n",
       " 'cd',\n",
       " 'ceiling',\n",
       " 'celery',\n",
       " 'celeste',\n",
       " 'cell',\n",
       " 'cellar',\n",
       " 'cello',\n",
       " 'celsius',\n",
       " 'cement',\n",
       " 'cemetery',\n",
       " 'cent',\n",
       " 'centimeter',\n",
       " 'century',\n",
       " 'ceramic',\n",
       " 'cereal',\n",
       " 'certification',\n",
       " 'chain',\n",
       " 'chair',\n",
       " 'chalk',\n",
       " 'chance',\n",
       " 'change',\n",
       " 'channel',\n",
       " 'character',\n",
       " 'chard',\n",
       " 'charles',\n",
       " 'chauffeur',\n",
       " 'check',\n",
       " 'cheek',\n",
       " 'cheese',\n",
       " 'cheetah',\n",
       " 'chef',\n",
       " 'chemistry',\n",
       " 'cheque',\n",
       " 'cherries',\n",
       " 'cherry',\n",
       " 'chess',\n",
       " 'chest',\n",
       " 'chick',\n",
       " 'chicken',\n",
       " 'chicory',\n",
       " 'chief',\n",
       " 'child',\n",
       " 'children',\n",
       " 'chill',\n",
       " 'chime',\n",
       " 'chimpanzee',\n",
       " 'chin',\n",
       " 'china',\n",
       " 'chinese',\n",
       " 'chive',\n",
       " 'chocolate',\n",
       " 'chord',\n",
       " 'christmas',\n",
       " 'christopher',\n",
       " 'chronometer',\n",
       " 'church',\n",
       " 'cicada',\n",
       " 'cinema',\n",
       " 'circle',\n",
       " 'circulation',\n",
       " 'cirrus',\n",
       " 'citizenship',\n",
       " 'city',\n",
       " 'clam',\n",
       " 'clarinet',\n",
       " 'class',\n",
       " 'claus',\n",
       " 'clave',\n",
       " 'clef',\n",
       " 'clerk',\n",
       " 'click',\n",
       " 'client',\n",
       " 'climb',\n",
       " 'clipper',\n",
       " 'cloakroom',\n",
       " 'clock',\n",
       " 'close',\n",
       " 'closet',\n",
       " 'cloth',\n",
       " 'cloud',\n",
       " 'cloudy',\n",
       " 'clover',\n",
       " 'club',\n",
       " 'clutch',\n",
       " 'coach',\n",
       " 'coal',\n",
       " 'coast',\n",
       " 'coat',\n",
       " 'cobweb',\n",
       " 'cockroach',\n",
       " 'cocktail',\n",
       " 'cocoa',\n",
       " 'cod',\n",
       " 'coffee',\n",
       " 'coil',\n",
       " 'coin',\n",
       " 'coke',\n",
       " 'cold',\n",
       " 'collar',\n",
       " 'college',\n",
       " 'collision',\n",
       " 'colombia',\n",
       " 'colon',\n",
       " 'colony',\n",
       " 'color',\n",
       " 'colt',\n",
       " 'column',\n",
       " 'columnist',\n",
       " 'comb',\n",
       " 'comfort',\n",
       " 'comic',\n",
       " 'comma',\n",
       " 'command',\n",
       " 'commission',\n",
       " 'committee',\n",
       " 'community',\n",
       " 'company',\n",
       " 'comparison',\n",
       " 'competition',\n",
       " 'competitor',\n",
       " 'composer',\n",
       " 'composition',\n",
       " 'computer',\n",
       " 'condition',\n",
       " 'condor',\n",
       " 'cone',\n",
       " 'confirmation',\n",
       " 'conga',\n",
       " 'congo',\n",
       " 'conifer',\n",
       " 'connection',\n",
       " 'consonant',\n",
       " 'continent',\n",
       " 'control',\n",
       " 'cook',\n",
       " 'cooking',\n",
       " 'copper',\n",
       " 'copy',\n",
       " 'copyright',\n",
       " 'cord',\n",
       " 'cork',\n",
       " 'cormorant',\n",
       " 'corn',\n",
       " 'cornet',\n",
       " 'correspondent',\n",
       " 'cost',\n",
       " 'cotton',\n",
       " 'couch',\n",
       " 'cougar',\n",
       " 'cough',\n",
       " 'country',\n",
       " 'course',\n",
       " 'court',\n",
       " 'cousin',\n",
       " 'cover',\n",
       " 'cow',\n",
       " 'cowbell',\n",
       " 'crab',\n",
       " 'crack',\n",
       " 'cracker',\n",
       " 'craftsman',\n",
       " 'crate',\n",
       " 'crawdad',\n",
       " 'crayfish',\n",
       " 'crayon',\n",
       " 'cream',\n",
       " 'creator',\n",
       " 'creature',\n",
       " 'credit',\n",
       " 'creditor',\n",
       " 'creek',\n",
       " 'crib',\n",
       " 'cricket',\n",
       " 'crime',\n",
       " 'criminal',\n",
       " 'crocodile',\n",
       " 'crocus',\n",
       " 'croissant',\n",
       " 'crook',\n",
       " 'crop',\n",
       " 'cross',\n",
       " 'crow',\n",
       " 'crowd',\n",
       " 'crown',\n",
       " 'crush',\n",
       " 'cry',\n",
       " 'cub',\n",
       " 'cuban',\n",
       " 'cucumber',\n",
       " 'cultivator',\n",
       " 'cup',\n",
       " 'cupboard',\n",
       " 'cupcake',\n",
       " 'curler',\n",
       " 'currency',\n",
       " 'current',\n",
       " 'curtain',\n",
       " 'curve',\n",
       " 'cushion',\n",
       " 'custard',\n",
       " 'customer',\n",
       " 'cut',\n",
       " 'cuticle',\n",
       " 'cycle',\n",
       " 'cyclone',\n",
       " 'cylinder',\n",
       " 'cymbal',\n",
       " 'dad',\n",
       " 'daffodil',\n",
       " 'dahlia',\n",
       " 'daisy',\n",
       " 'damage',\n",
       " 'dance',\n",
       " 'dancer',\n",
       " 'danger',\n",
       " 'daniel',\n",
       " 'dash',\n",
       " 'dashboard',\n",
       " 'database',\n",
       " 'date',\n",
       " 'daughter',\n",
       " 'david',\n",
       " 'day',\n",
       " 'dead',\n",
       " 'deadline',\n",
       " 'deal',\n",
       " 'death',\n",
       " 'deborah',\n",
       " 'debt',\n",
       " 'debtor',\n",
       " 'decade',\n",
       " 'december',\n",
       " 'decimal',\n",
       " 'decision',\n",
       " 'decrease',\n",
       " 'dedication',\n",
       " 'deer',\n",
       " 'defense',\n",
       " 'deficit',\n",
       " 'degree',\n",
       " 'delete',\n",
       " 'delivery',\n",
       " 'den',\n",
       " 'denim',\n",
       " 'dentist',\n",
       " 'deodorant',\n",
       " 'department',\n",
       " 'deposit',\n",
       " 'description',\n",
       " 'desert',\n",
       " 'design',\n",
       " 'desire',\n",
       " 'desk',\n",
       " 'dessert',\n",
       " 'destruction',\n",
       " 'detail',\n",
       " 'detective',\n",
       " 'development',\n",
       " 'dew',\n",
       " 'diamond',\n",
       " 'diaphragm',\n",
       " 'dibble',\n",
       " 'dictionary',\n",
       " 'dietician',\n",
       " 'difference',\n",
       " 'digestion',\n",
       " 'digger',\n",
       " 'digital',\n",
       " 'dill',\n",
       " 'dime',\n",
       " 'dimple',\n",
       " 'dinghy',\n",
       " 'dinner',\n",
       " 'dinosaur',\n",
       " 'diploma',\n",
       " 'dipstick',\n",
       " 'direction',\n",
       " 'dirt',\n",
       " 'disadvantage',\n",
       " 'discovery',\n",
       " 'discussion',\n",
       " 'disease',\n",
       " 'disgust',\n",
       " 'dish',\n",
       " 'distance',\n",
       " 'distribution',\n",
       " 'distributor',\n",
       " 'diving',\n",
       " 'division',\n",
       " 'dock',\n",
       " 'doctor',\n",
       " 'dog',\n",
       " 'dogsled',\n",
       " 'doll',\n",
       " 'dollar',\n",
       " 'dolphin',\n",
       " 'domain',\n",
       " 'donald',\n",
       " 'donkey',\n",
       " 'donna',\n",
       " 'door',\n",
       " 'dorothy',\n",
       " 'double',\n",
       " 'doubt',\n",
       " 'downtown',\n",
       " 'dragon',\n",
       " 'dragonfly',\n",
       " 'drain',\n",
       " 'drake',\n",
       " 'drama',\n",
       " 'draw',\n",
       " 'drawbridge',\n",
       " 'drawer',\n",
       " 'dream',\n",
       " 'dredger',\n",
       " 'dress',\n",
       " 'dresser',\n",
       " 'dressing',\n",
       " 'drill',\n",
       " 'drink',\n",
       " 'drive',\n",
       " 'driver',\n",
       " 'driving',\n",
       " 'drizzle',\n",
       " 'drop',\n",
       " 'drug',\n",
       " 'drum',\n",
       " 'dry',\n",
       " 'dryer',\n",
       " 'duck',\n",
       " 'duckling',\n",
       " 'dugout',\n",
       " 'dungeon',\n",
       " 'dust',\n",
       " 'eagle',\n",
       " 'ear',\n",
       " 'earth',\n",
       " 'earthquake',\n",
       " 'ease',\n",
       " 'east',\n",
       " 'edge',\n",
       " 'edger',\n",
       " 'editor',\n",
       " 'editorial',\n",
       " 'education',\n",
       " 'edward',\n",
       " 'eel',\n",
       " 'effect',\n",
       " 'egg',\n",
       " 'eggnog',\n",
       " 'eggplant',\n",
       " 'egypt',\n",
       " 'eight',\n",
       " 'elbow',\n",
       " 'element',\n",
       " 'elephant',\n",
       " 'elizabeth',\n",
       " 'ellipse',\n",
       " 'emery',\n",
       " 'employee',\n",
       " 'employer',\n",
       " 'encyclopedia',\n",
       " 'end',\n",
       " 'enemy',\n",
       " 'energy',\n",
       " 'engine',\n",
       " 'engineer',\n",
       " 'engineering',\n",
       " 'english',\n",
       " 'enquiry',\n",
       " 'entrance',\n",
       " 'environment',\n",
       " 'epoch',\n",
       " 'epoxy',\n",
       " 'equinox',\n",
       " 'equipment',\n",
       " 'era',\n",
       " 'error',\n",
       " 'estimate',\n",
       " 'ethernet',\n",
       " 'ethiopia',\n",
       " 'euphonium',\n",
       " 'europe',\n",
       " 'evening',\n",
       " 'event',\n",
       " 'examination',\n",
       " 'example',\n",
       " 'exchange',\n",
       " 'exclamation',\n",
       " 'exhaust',\n",
       " 'ex-husband',\n",
       " 'existence',\n",
       " 'expansion',\n",
       " 'experience',\n",
       " 'expert',\n",
       " 'explanation',\n",
       " 'ex-wife',\n",
       " 'eye',\n",
       " 'eyebrow',\n",
       " 'eyelash',\n",
       " 'eyeliner',\n",
       " 'face',\n",
       " 'facilities',\n",
       " 'fact',\n",
       " 'factory',\n",
       " 'fahrenheit',\n",
       " 'fairies',\n",
       " 'fall',\n",
       " 'family',\n",
       " 'fan',\n",
       " 'fang',\n",
       " 'farm',\n",
       " 'farmer',\n",
       " 'fat',\n",
       " 'father',\n",
       " 'father-in-law',\n",
       " 'faucet',\n",
       " 'fear',\n",
       " 'feast',\n",
       " 'feather',\n",
       " 'feature',\n",
       " 'february',\n",
       " 'fedelini',\n",
       " 'feedback',\n",
       " 'feeling',\n",
       " 'feet',\n",
       " 'felony',\n",
       " 'female',\n",
       " 'fender',\n",
       " 'ferry',\n",
       " 'ferryboat',\n",
       " 'fertilizer',\n",
       " 'fiber',\n",
       " 'fiberglass',\n",
       " 'fibre',\n",
       " 'fiction',\n",
       " 'field',\n",
       " 'fifth',\n",
       " 'fight',\n",
       " 'fighter',\n",
       " 'file',\n",
       " 'find',\n",
       " 'fine',\n",
       " 'finger',\n",
       " 'fir',\n",
       " 'fire',\n",
       " 'fireman',\n",
       " 'fireplace',\n",
       " 'firewall',\n",
       " 'fish',\n",
       " 'fisherman',\n",
       " 'flag',\n",
       " 'flame',\n",
       " 'flare',\n",
       " 'flat',\n",
       " 'flavor',\n",
       " 'flax',\n",
       " 'flesh',\n",
       " 'flight',\n",
       " 'flock',\n",
       " 'flood',\n",
       " 'floor',\n",
       " 'flower',\n",
       " 'flugelhorn',\n",
       " 'flute',\n",
       " 'fly',\n",
       " 'foam',\n",
       " 'fog',\n",
       " 'fold',\n",
       " 'font',\n",
       " 'food',\n",
       " 'foot',\n",
       " 'football',\n",
       " 'footnote',\n",
       " 'force',\n",
       " 'forecast',\n",
       " 'forehead',\n",
       " 'forest',\n",
       " 'forgery',\n",
       " 'fork',\n",
       " 'form',\n",
       " 'format',\n",
       " 'fortnight',\n",
       " 'foundation',\n",
       " 'fountain',\n",
       " 'fowl',\n",
       " 'fox',\n",
       " 'foxglove',\n",
       " 'fragrance',\n",
       " 'frame',\n",
       " 'france',\n",
       " 'freckle',\n",
       " 'freeze',\n",
       " 'freezer',\n",
       " 'freighter',\n",
       " 'french',\n",
       " 'freon',\n",
       " 'friction',\n",
       " 'friday',\n",
       " 'fridge',\n",
       " 'friend',\n",
       " 'frog',\n",
       " 'front',\n",
       " 'frost',\n",
       " 'frown',\n",
       " 'fruit',\n",
       " 'fuel',\n",
       " 'fur',\n",
       " 'furniture',\n",
       " 'galley',\n",
       " 'gallon',\n",
       " 'game',\n",
       " 'gander',\n",
       " 'garage',\n",
       " 'garden',\n",
       " 'garlic',\n",
       " 'gas',\n",
       " 'gasoline',\n",
       " 'gate',\n",
       " 'gateway',\n",
       " 'gauge',\n",
       " 'gazelle',\n",
       " 'gear',\n",
       " 'gearshift',\n",
       " 'geese',\n",
       " 'gemini',\n",
       " 'gender',\n",
       " 'geography',\n",
       " 'geology',\n",
       " 'geometry',\n",
       " 'george',\n",
       " 'geranium',\n",
       " 'german',\n",
       " 'germany',\n",
       " 'ghana',\n",
       " 'ghost',\n",
       " 'giant',\n",
       " 'giraffe',\n",
       " 'girdle',\n",
       " 'girl',\n",
       " 'gladiolus',\n",
       " 'glass',\n",
       " 'glider',\n",
       " 'gliding',\n",
       " 'glockenspiel',\n",
       " 'glove',\n",
       " 'glue',\n",
       " 'goal',\n",
       " 'goat',\n",
       " 'gold',\n",
       " 'goldfish',\n",
       " 'golf',\n",
       " 'gondola',\n",
       " 'gong',\n",
       " 'good-bye',\n",
       " 'goose',\n",
       " 'gore-tex',\n",
       " 'gorilla',\n",
       " 'gosling',\n",
       " 'government',\n",
       " 'governor',\n",
       " 'grade',\n",
       " 'grain',\n",
       " 'gram',\n",
       " 'granddaughter',\n",
       " 'grandfather',\n",
       " 'grandmother',\n",
       " 'grandson',\n",
       " 'grape',\n",
       " 'graphic',\n",
       " 'grass',\n",
       " 'grasshopper',\n",
       " 'gray',\n",
       " 'grease',\n",
       " 'great-grandfather',\n",
       " 'great-grandmother',\n",
       " 'greece',\n",
       " 'greek',\n",
       " 'green',\n",
       " 'grenade',\n",
       " 'grey',\n",
       " 'grill',\n",
       " 'grip',\n",
       " 'ground',\n",
       " 'group',\n",
       " 'grouse',\n",
       " 'growth',\n",
       " 'guarantee',\n",
       " 'guatemalan',\n",
       " 'guide',\n",
       " 'guilty',\n",
       " 'guitar',\n",
       " 'gum',\n",
       " 'gun',\n",
       " 'gym',\n",
       " 'gymnast',\n",
       " 'hacksaw',\n",
       " 'hail',\n",
       " 'hair',\n",
       " 'haircut',\n",
       " 'half-brother',\n",
       " 'half-sister',\n",
       " 'halibut',\n",
       " 'hall',\n",
       " 'hallway',\n",
       " 'hamburger',\n",
       " 'hammer',\n",
       " 'hamster',\n",
       " 'hand',\n",
       " 'handball',\n",
       " 'handicap',\n",
       " 'handle',\n",
       " 'handsaw',\n",
       " 'harbor',\n",
       " 'hardboard',\n",
       " 'hardcover',\n",
       " 'hardhat',\n",
       " 'hardware',\n",
       " 'harmonica',\n",
       " 'harmony',\n",
       " 'harp',\n",
       " 'hat',\n",
       " 'hate',\n",
       " 'hawk',\n",
       " 'head',\n",
       " 'headlight',\n",
       " 'headline',\n",
       " 'health',\n",
       " 'hearing',\n",
       " 'heart',\n",
       " 'heat',\n",
       " 'heaven',\n",
       " 'hedge',\n",
       " 'height',\n",
       " 'helen',\n",
       " 'helicopter',\n",
       " ...]"
      ]
     },
     "execution_count": 59,
     "metadata": {},
     "output_type": "execute_result"
    }
   ],
   "source": [
    "noun_list"
   ]
  },
  {
   "cell_type": "markdown",
   "metadata": {},
   "source": [
    "## Common Categories"
   ]
  },
  {
   "cell_type": "code",
   "execution_count": 60,
   "metadata": {
    "collapsed": true
   },
   "outputs": [],
   "source": [
    "categories = {}\n",
    "for noun in noun_list:\n",
    "    category = categorize(noun)\n",
    "    if category not in categories:\n",
    "        categories[category] = 1\n",
    "    else:\n",
    "        categories[category] = categories[category] + 1\n",
    "        "
   ]
  },
  {
   "cell_type": "code",
   "execution_count": 61,
   "metadata": {
    "collapsed": false
   },
   "outputs": [
    {
     "data": {
      "text/plain": [
       "{'region.n.01': 5,\n",
       " 'side.n.04': 2,\n",
       " 'heavier-than-air_craft.n.01': 4,\n",
       " 'singer.n.01': 3,\n",
       " 'political_unit.n.01': 2,\n",
       " 'sport.n.01': 2,\n",
       " 'device.n.01': 8,\n",
       " 'check.n.01': 1,\n",
       " 'archangel.n.01': 1,\n",
       " 'stronghold.n.01': 1,\n",
       " 'businessman.n.01': 1,\n",
       " 'native.n.01': 1,\n",
       " 'extremity.n.05': 1,\n",
       " 'hindrance.n.01': 1,\n",
       " 'laminate.n.01': 1,\n",
       " 'reflector.n.01': 1,\n",
       " 'operator.n.02': 1,\n",
       " 'imitation.n.02': 1,\n",
       " 'stringed_instrument.n.01': 2,\n",
       " 'motion.n.06': 1,\n",
       " 'real_property.n.01': 1,\n",
       " 'rule.n.03': 1,\n",
       " 'overgarment.n.01': 1,\n",
       " 'gathering.n.01': 5,\n",
       " 'precious_metal.n.01': 1,\n",
       " 'calmness.n.02': 1,\n",
       " 'burial_chamber.n.01': 1,\n",
       " 'addendum.n.01': 1,\n",
       " 'creator.n.02': 1,\n",
       " 'picture.n.01': 1,\n",
       " 'equine.n.01': 2,\n",
       " 'tract.n.01': 2,\n",
       " 'representation.n.02': 2,\n",
       " 'dough.n.01': 1,\n",
       " 'physical_condition.n.01': 1,\n",
       " 'religious_song.n.01': 1,\n",
       " 'lynx.n.02': 1,\n",
       " 'bone.n.01': 2,\n",
       " 'enterprise.n.02': 1,\n",
       " 'thoroughfare.n.01': 1,\n",
       " 'past.n.01': 1,\n",
       " 'vessel.n.03': 9,\n",
       " 'person.n.01': 26,\n",
       " 'improvement.n.02': 2,\n",
       " 'odonate.n.01': 1,\n",
       " 'ellipse.n.01': 1,\n",
       " 'entertainment.n.01': 1,\n",
       " 'cord.n.01': 4,\n",
       " 'natural_object.n.01': 5,\n",
       " 'rotation.n.03': 1,\n",
       " 'perceiver.n.01': 1,\n",
       " 'cyclone.n.02': 3,\n",
       " 'maneuver.n.04': 2,\n",
       " 'drink.n.01': 1,\n",
       " 'intruder.n.01': 1,\n",
       " 'tree.n.01': 3,\n",
       " 'small_person.n.01': 1,\n",
       " 'path.n.04': 1,\n",
       " 'bowed_stringed_instrument.n.01': 2,\n",
       " 'asian.n.01': 4,\n",
       " 'strengthener.n.01': 1,\n",
       " 'place_of_worship.n.01': 3,\n",
       " 'physics.n.01': 1,\n",
       " 'plumbing_fixture.n.01': 1,\n",
       " 'process.n.05': 1,\n",
       " 'athlete.n.01': 1,\n",
       " 'abstraction.n.06': 2,\n",
       " 'body_part.n.01': 5,\n",
       " 'lawman.n.01': 1,\n",
       " 'implement.n.01': 3,\n",
       " 'fundamental_quantity.n.01': 3,\n",
       " 'vinyl_polymer.n.01': 1,\n",
       " 'outbuilding.n.01': 1,\n",
       " 'problem.n.02': 1,\n",
       " 'evaluation.n.02': 1,\n",
       " 'oil.n.01': 1,\n",
       " 'new_world_vulture.n.01': 2,\n",
       " 'distributor.n.01': 2,\n",
       " 'prevention.n.01': 1,\n",
       " 'spiritual_leader.n.01': 1,\n",
       " 'domestic.n.01': 1,\n",
       " 'geographic_point.n.01': 1,\n",
       " 'product.n.02': 1,\n",
       " 'cement.n.03': 1,\n",
       " 'wagon.n.01': 1,\n",
       " 'organization.n.01': 1,\n",
       " 'sac.n.04': 1,\n",
       " 'holding_device.n.01': 1,\n",
       " 'saw.n.02': 2,\n",
       " 'ratio.n.01': 1,\n",
       " 'pasta.n.01': 2,\n",
       " 'character.n.08': 1,\n",
       " 'skiff.n.01': 1,\n",
       " 'linguistic_process.n.02': 1,\n",
       " 'celestial_body.n.01': 2,\n",
       " 'novice.n.02': 1,\n",
       " 'salesperson.n.01': 1,\n",
       " 'visual_communication.n.01': 1,\n",
       " 'expert.n.01': 3,\n",
       " 'act.n.02': 4,\n",
       " 'annual.n.02': 1,\n",
       " 'chemical_element.n.01': 7,\n",
       " 'white_goods.n.01': 1,\n",
       " 'packing_material.n.01': 1,\n",
       " 'debt.n.02': 1,\n",
       " 'difficulty.n.02': 1,\n",
       " 'canine.n.02': 4,\n",
       " 'plant_organ.n.01': 3,\n",
       " 'bubble.n.01': 1,\n",
       " 'awareness.n.01': 1,\n",
       " 'crack.n.01': 1,\n",
       " 'commercial_enterprise.n.01': 1,\n",
       " 'action.n.01': 1,\n",
       " 'martial_art.n.01': 2,\n",
       " 'written_communication.n.01': 1,\n",
       " 'countenance.n.01': 1,\n",
       " 'danger.n.03': 1,\n",
       " 'education.n.04': 1,\n",
       " 'damper.n.02': 1,\n",
       " 'region.n.03': 2,\n",
       " 'sled.n.01': 1,\n",
       " 'trainer.n.01': 1,\n",
       " 'grass.n.01': 1,\n",
       " 'kinsman.n.01': 2,\n",
       " 'juvenile.n.01': 2,\n",
       " 'approval.n.04': 2,\n",
       " 'religion.n.02': 1,\n",
       " 'copal.n.01': 1,\n",
       " 'dressing.n.01': 1,\n",
       " 'relation.n.01': 3,\n",
       " 'choice.n.02': 1,\n",
       " 'unfitness.n.01': 1,\n",
       " 'branch.n.02': 1,\n",
       " 'instrumentality.n.03': 4,\n",
       " 'nonaccomplishment.n.01': 2,\n",
       " 'point.n.06': 1,\n",
       " 'sense_organ.n.01': 2,\n",
       " 'knot.n.02': 1,\n",
       " 'deer.n.01': 1,\n",
       " 'set.n.01': 3,\n",
       " 'enjoyment.n.01': 1,\n",
       " 'request.n.02': 1,\n",
       " 'opening.n.01': 2,\n",
       " 'fidelity.n.02': 1,\n",
       " 'housing.n.01': 1,\n",
       " 'cook.n.01': 1,\n",
       " 'baked_goods.n.01': 1,\n",
       " 'cosmetic.n.01': 1,\n",
       " 'orientation.n.02': 1,\n",
       " 'explanation.n.02': 1,\n",
       " 'dentifrice.n.01': 1,\n",
       " 'drum.n.01': 2,\n",
       " 'end.n.01': 1,\n",
       " 'psychological_feature.n.01': 2,\n",
       " 'female_sibling.n.01': 1,\n",
       " 'science.n.01': 2,\n",
       " 'reflex.n.01': 1,\n",
       " 'enclosure.n.01': 1,\n",
       " 'absorbent_material.n.01': 1,\n",
       " 'laborer.n.01': 3,\n",
       " 'respiratory_organ.n.01': 1,\n",
       " 'brome.n.01': 1,\n",
       " 'cellulose_ester.n.01': 1,\n",
       " 'penalty.n.02': 1,\n",
       " 'toiletry.n.01': 2,\n",
       " 'word.n.01': 1,\n",
       " 'transferred_property.n.01': 1,\n",
       " 'cap.n.04': 1,\n",
       " 'bed.n.03': 1,\n",
       " 'introduction.n.02': 1,\n",
       " 'street.n.01': 1,\n",
       " 'loop.n.02': 1,\n",
       " 'landmass.n.01': 1,\n",
       " 'explosive_device.n.01': 1,\n",
       " 'pen.n.01': 1,\n",
       " 'electromagnetic_radiation.n.01': 1,\n",
       " 'property.n.04': 1,\n",
       " 'base_hit.n.01': 2,\n",
       " 'factory.n.01': 1,\n",
       " 'produce.n.01': 1,\n",
       " 'air_mass.n.01': 1,\n",
       " 'finding.n.02': 1,\n",
       " 'system.n.02': 1,\n",
       " 'rima.n.01': 1,\n",
       " 'access.n.03': 1,\n",
       " 'content.n.05': 4,\n",
       " 'illness.n.01': 1,\n",
       " 'broadcasting.n.02': 3,\n",
       " 'vegetation.n.01': 2,\n",
       " 'pinniped_mammal.n.01': 1,\n",
       " 'message.n.02': 7,\n",
       " 'conversation.n.01': 1,\n",
       " 'consequence.n.01': 1,\n",
       " 'blood_vessel.n.01': 1,\n",
       " 'stabilizer.n.03': 1,\n",
       " 'simple_leaf.n.01': 1,\n",
       " 'formation.n.01': 2,\n",
       " 'employee.n.01': 1,\n",
       " 'physical_property.n.01': 1,\n",
       " 'ball_game.n.01': 1,\n",
       " 'situation.n.03': 1,\n",
       " 'athletic_facility.n.01': 1,\n",
       " 'firearm.n.01': 1,\n",
       " 'eater.n.01': 1,\n",
       " 'organ.n.01': 1,\n",
       " 'desire.n.01': 1,\n",
       " 'mythical_monster.n.01': 1,\n",
       " 'vegetable.n.02': 2,\n",
       " 'relative.n.01': 1,\n",
       " 'atmosphere.n.05': 1,\n",
       " 'wetness.n.01': 1,\n",
       " 'organism.n.01': 3,\n",
       " 'lake.n.01': 1,\n",
       " 'passerine.n.01': 1,\n",
       " 'sweater.n.01': 1,\n",
       " 'light.n.02': 2,\n",
       " 'appearance.n.01': 1,\n",
       " 'zircon.n.01': 1,\n",
       " 'machine.n.01': 1,\n",
       " 'makeup.n.01': 3,\n",
       " 'helping.n.01': 1,\n",
       " 'state.n.02': 3,\n",
       " 'catch.n.07': 1,\n",
       " 'cereal.n.01': 1,\n",
       " 'machine.n.04': 1,\n",
       " 'pullover.n.01': 1,\n",
       " 'coat.n.01': 3,\n",
       " 'boundary.n.01': 2,\n",
       " 'skin.n.01': 1,\n",
       " 'stroke.n.12': 1,\n",
       " 'cocktail.n.01': 2,\n",
       " 'contractile_organ.n.01': 1,\n",
       " 'skeletal_structure.n.01': 1,\n",
       " 'indebtedness.n.01': 1,\n",
       " 'visual_property.n.01': 1,\n",
       " 'bass.n.07': 2,\n",
       " 'politician.n.01': 1,\n",
       " 'vehicle.n.01': 2,\n",
       " 'grocery_store.n.01': 1,\n",
       " 'order.n.03': 1,\n",
       " 'approach.n.01': 1,\n",
       " 'gas.n.02': 3,\n",
       " 'talk.n.01': 1,\n",
       " 'fruit_tree.n.01': 1,\n",
       " 'facility.n.01': 2,\n",
       " 'chicken.n.02': 3,\n",
       " 'even-toed_ungulate.n.01': 3,\n",
       " 'condiment.n.01': 3,\n",
       " 'entrance.n.01': 1,\n",
       " 'agitation.n.01': 1,\n",
       " 'golf_stroke.n.01': 1,\n",
       " 'animal.n.01': 4,\n",
       " 'journalist.n.01': 1,\n",
       " 'shop.n.01': 1,\n",
       " 'keeper.n.01': 1,\n",
       " 'grain.n.02': 1,\n",
       " 'movable_barrier.n.01': 2,\n",
       " 'water-base_paint.n.01': 1,\n",
       " 'seed.n.01': 1,\n",
       " 'nation.n.02': 2,\n",
       " 'ligament.n.02': 1,\n",
       " 'sailing_vessel.n.01': 1,\n",
       " 'bovine.n.01': 1,\n",
       " 'female_offspring.n.01': 1,\n",
       " 'garment.n.01': 8,\n",
       " 'storeroom.n.01': 1,\n",
       " 'wallboard.n.01': 1,\n",
       " 'part.n.09': 1,\n",
       " 'male_sibling.n.01': 1,\n",
       " 'energy.n.01': 1,\n",
       " 'playing_card.n.01': 1,\n",
       " 'smell.n.01': 3,\n",
       " 'taste.n.05': 1,\n",
       " 'locomotion.n.02': 1,\n",
       " 'turnip_plant.n.01': 1,\n",
       " 'appendage.n.03': 1,\n",
       " 'rational_motive.n.01': 1,\n",
       " 'ganoid.n.01': 1,\n",
       " 'food_fish.n.01': 1,\n",
       " 'pasta.n.02': 5,\n",
       " 'grandchild.n.01': 2,\n",
       " 'tendril.n.01': 1,\n",
       " 'rectangle.n.01': 1,\n",
       " 'situation.n.01': 2,\n",
       " 'waiter.n.01': 1,\n",
       " 'canoe.n.01': 1,\n",
       " 'north_american.n.01': 1,\n",
       " 'legume.n.03': 3,\n",
       " 'education.n.02': 1,\n",
       " 'army_unit.n.01': 1,\n",
       " 'motivation.n.01': 1,\n",
       " 'homopterous_insect.n.01': 1,\n",
       " 'match.n.02': 1,\n",
       " 'single-reed_instrument.n.01': 2,\n",
       " 'natural_elevation.n.01': 2,\n",
       " 'fastener.n.02': 4,\n",
       " 'sending.n.01': 1,\n",
       " 'emergence.n.01': 1,\n",
       " 'straight_line.n.01': 1,\n",
       " 'selling.n.01': 1,\n",
       " 'cattle.n.01': 4,\n",
       " 'bag.n.01': 1,\n",
       " 'consciousness.n.01': 1,\n",
       " 'plant_material.n.01': 1,\n",
       " 'alcohol.n.01': 2,\n",
       " 'depression.n.08': 1,\n",
       " 'defense.n.04': 1,\n",
       " 'sound.n.01': 2,\n",
       " 'equipment.n.01': 2,\n",
       " 'environmental_condition.n.01': 1,\n",
       " 'edible_fruit.n.01': 4,\n",
       " 'restaurant.n.01': 3,\n",
       " 'edge_tool.n.01': 1,\n",
       " 'meter.n.02': 1,\n",
       " 'connective_tissue.n.01': 1,\n",
       " 'scandinavian.n.02': 1,\n",
       " 'hosiery.n.01': 3,\n",
       " 'category.n.02': 1,\n",
       " 'course.n.07': 1,\n",
       " 'levy.n.01': 1,\n",
       " 'old_world_monkey.n.01': 1,\n",
       " 'atmosphere.n.01': 1,\n",
       " 'mineral.n.01': 1,\n",
       " 'body_covering.n.01': 2,\n",
       " 'support.n.03': 1,\n",
       " 'genitor.n.01': 1,\n",
       " 'document.n.01': 3,\n",
       " 'placental.n.01': 3,\n",
       " 'grasping.n.02': 2,\n",
       " 'light.n.01': 2,\n",
       " 'chemical.n.01': 1,\n",
       " 'electronic_equipment.n.01': 3,\n",
       " None: 187,\n",
       " 'coin.n.01': 1,\n",
       " 'prediction.n.02': 2,\n",
       " 'deliveryman.n.01': 1,\n",
       " 'nail.n.01': 1,\n",
       " 'commerce.n.01': 1,\n",
       " 'pedal.n.02': 1,\n",
       " 'topographic_point.n.01': 1,\n",
       " 'indefinite_quantity.n.01': 3,\n",
       " 'large_person.n.01': 1,\n",
       " 'chemoreceptor.n.01': 1,\n",
       " 'acceptance.n.03': 1,\n",
       " 'box.n.01': 2,\n",
       " 'development.n.04': 1,\n",
       " 'slope.n.01': 2,\n",
       " 'father.n.01': 2,\n",
       " 'liability.n.03': 1,\n",
       " 'chromatic_color.n.01': 7,\n",
       " 'grouse.n.02': 1,\n",
       " 'concept.n.01': 1,\n",
       " 'composition.n.03': 1,\n",
       " 'assurance.n.02': 1,\n",
       " 'macule.n.01': 1,\n",
       " 'case.n.06': 2,\n",
       " 'traveler.n.01': 3,\n",
       " 'edentate.n.01': 1,\n",
       " 'singing_voice.n.01': 1,\n",
       " 'chemical_process.n.01': 2,\n",
       " 'expanse.n.03': 2,\n",
       " 'polity.n.02': 1,\n",
       " 'advantage.n.01': 1,\n",
       " 'polygon.n.01': 3,\n",
       " 'criminal.n.01': 1,\n",
       " 'area.n.03': 1,\n",
       " 'relish.n.02': 1,\n",
       " 'trouser.n.01': 6,\n",
       " 'bedclothes.n.01': 2,\n",
       " 'conductor.n.02': 2,\n",
       " 'conference.n.03': 1,\n",
       " 'gliding_joint.n.01': 2,\n",
       " 'dictyopterous_insect.n.01': 1,\n",
       " 'woodworker.n.01': 1,\n",
       " 'city_district.n.01': 1,\n",
       " 'radiance.n.02': 1,\n",
       " 'seafood.n.01': 2,\n",
       " 'railway.n.01': 1,\n",
       " 'acknowledgment.n.03': 1,\n",
       " 'article.n.01': 1,\n",
       " 'pain.n.01': 1,\n",
       " 'archosaur.n.01': 1,\n",
       " 'protective_covering.n.01': 3,\n",
       " 'calamity.n.01': 1,\n",
       " 'baseball_equipment.n.01': 1,\n",
       " 'component.n.03': 1,\n",
       " 'bean.n.02': 2,\n",
       " 'thief.n.01': 1,\n",
       " 'driver.n.01': 1,\n",
       " 'assets.n.01': 3,\n",
       " 'timepiece.n.01': 4,\n",
       " 'storm.n.01': 3,\n",
       " 'reproductive_structure.n.01': 1,\n",
       " 'liquor.n.01': 2,\n",
       " 'substance.n.01': 1,\n",
       " 'change_of_integrity.n.01': 1,\n",
       " 'writing_implement.n.01': 3,\n",
       " 'actor.n.01': 1,\n",
       " 'sealing_material.n.01': 1,\n",
       " 'figure.n.04': 1,\n",
       " 'fruit.n.01': 2,\n",
       " 'leaf.n.01': 1,\n",
       " 'feline.n.01': 1,\n",
       " 'covering_material.n.01': 2,\n",
       " 'small_boat.n.01': 3,\n",
       " 'exception.n.03': 1,\n",
       " 'digit.n.01': 1,\n",
       " 'shape.n.02': 1,\n",
       " 'fossil_fuel.n.01': 1,\n",
       " 'limit.n.06': 1,\n",
       " 'gymnospermous_tree.n.01': 1,\n",
       " 'framework.n.03': 2,\n",
       " 'objection.n.02': 1,\n",
       " 'ice.n.01': 2,\n",
       " 'car.n.02': 1,\n",
       " 'end.n.02': 1,\n",
       " 'work.n.01': 1,\n",
       " 'mail.n.01': 1,\n",
       " 'wit.n.01': 2,\n",
       " 'record.n.07': 2,\n",
       " 'carnivore.n.01': 1,\n",
       " 'receptacle.n.01': 2,\n",
       " 'rest_day.n.01': 1,\n",
       " 'spacing.n.02': 1,\n",
       " 'keyboard_instrument.n.01': 1,\n",
       " 'table.n.02': 1,\n",
       " 'musical_composition.n.01': 1,\n",
       " 'time_unit.n.01': 5,\n",
       " 'happening.n.01': 5,\n",
       " 'file.n.02': 1,\n",
       " 'communication.n.02': 2,\n",
       " 'sauce.n.01': 1,\n",
       " 'origin.n.03': 1,\n",
       " 'insufficiency.n.03': 1,\n",
       " 'articulator.n.02': 2,\n",
       " 'grammatical_category.n.01': 1,\n",
       " 'sandwich.n.01': 1,\n",
       " 'metric_linear_unit.n.01': 4,\n",
       " 'acquiring.n.01': 1,\n",
       " 'touch.n.05': 1,\n",
       " 'cognitive_state.n.01': 1,\n",
       " 'free-reed_instrument.n.01': 2,\n",
       " 'curiosity.n.01': 1,\n",
       " 'maildrop.n.01': 1,\n",
       " 'plane_figure.n.01': 1,\n",
       " 'ball.n.01': 2,\n",
       " 'wordbook.n.01': 1,\n",
       " 'garmentmaker.n.01': 1,\n",
       " 'series.n.01': 1,\n",
       " 'ammunition.n.01': 1,\n",
       " 'avoirdupois_unit.n.01': 2,\n",
       " 'dissemination.n.01': 1,\n",
       " 'recreation_room.n.01': 1,\n",
       " 'young_mammal.n.01': 3,\n",
       " 'domestic_partner.n.01': 1,\n",
       " 'plaything.n.01': 1,\n",
       " 'fighter.n.02': 1,\n",
       " 'sinitic.n.01': 1,\n",
       " 'container.n.01': 9,\n",
       " 'draft.n.01': 2,\n",
       " 'atom.n.02': 1,\n",
       " 'mother.n.01': 1,\n",
       " 'combustion.n.01': 1,\n",
       " 'crime.n.01': 1,\n",
       " 'warrior.n.01': 1,\n",
       " 'binary_compound.n.01': 1,\n",
       " 'bunch.n.01': 1,\n",
       " 'wound.n.01': 2,\n",
       " 'cruciferous_vegetable.n.01': 2,\n",
       " 'season.n.03': 1,\n",
       " 'lighter.n.02': 1,\n",
       " 'sports_equipment.n.01': 1,\n",
       " 'solid.n.03': 2,\n",
       " 'orthopterous_insect.n.01': 2,\n",
       " 'inquirer.n.01': 1,\n",
       " 'pistol.n.01': 1,\n",
       " 'quality.n.01': 3,\n",
       " 'pod.n.02': 2,\n",
       " 'timer.n.01': 1,\n",
       " 'calculation.n.02': 1,\n",
       " 'land.n.04': 2,\n",
       " 'cushion.n.03': 1,\n",
       " 'bomb.n.01': 1,\n",
       " 'phasianid.n.01': 1,\n",
       " 'arrangement.n.03': 2,\n",
       " 'gallinaceous_bird.n.01': 2,\n",
       " 'citrus.n.01': 1,\n",
       " 'fog.n.01': 1,\n",
       " 'sports_implement.n.01': 1,\n",
       " 'vine.n.01': 1,\n",
       " 'copper-base_alloy.n.01': 2,\n",
       " 'tractor.n.01': 1,\n",
       " 'musician.n.02': 2,\n",
       " 'plan.n.01': 2,\n",
       " 'insight.n.03': 1,\n",
       " 'craft.n.02': 1,\n",
       " 'legal_document.n.01': 5,\n",
       " 'stepparent.n.01': 1,\n",
       " 'derivative_instrument.n.01': 1,\n",
       " 'dining-room_attendant.n.01': 2,\n",
       " 'crystal.n.01': 2,\n",
       " 'substance.n.07': 3,\n",
       " 'feeling.n.01': 3,\n",
       " 'footwear.n.02': 3,\n",
       " 'soil.n.02': 1,\n",
       " 'emptying.n.01': 1,\n",
       " 'port.n.01': 1,\n",
       " 'structure.n.01': 7,\n",
       " 'language_unit.n.01': 2,\n",
       " 'blow.n.02': 1,\n",
       " 'russian.n.01': 1,\n",
       " 'space.n.03': 1,\n",
       " 'coldness.n.03': 1,\n",
       " 'musical_time.n.01': 2,\n",
       " 'motor_vehicle.n.01': 5,\n",
       " 'leather.n.01': 3,\n",
       " 'plain.n.01': 1,\n",
       " 'aquatic_vertebrate.n.01': 1,\n",
       " 'water_sport.n.01': 2,\n",
       " 'dance_music.n.02': 1,\n",
       " 'fiction.n.01': 1,\n",
       " 'remedy.n.02': 1,\n",
       " 'coating.n.01': 1,\n",
       " 'type.n.04': 1,\n",
       " 'commercial_document.n.01': 1,\n",
       " 'refrigerator.n.01': 1,\n",
       " 'brass.n.02': 5,\n",
       " 'emblem.n.02': 2,\n",
       " 'matter.n.03': 2,\n",
       " 'true_pepper.n.01': 1,\n",
       " 'improvement.n.01': 1,\n",
       " 'ability.n.02': 1,\n",
       " 'morphology.n.01': 1,\n",
       " 'elasmobranch.n.01': 1,\n",
       " 'barge.n.01': 1,\n",
       " 'american.n.01': 1,\n",
       " 'male_offspring.n.01': 1,\n",
       " 'crocodilian_reptile.n.01': 1,\n",
       " 'activity.n.01': 12,\n",
       " 'reformer.n.01': 1,\n",
       " 'occultist.n.01': 1,\n",
       " 'religious_festival.n.01': 1,\n",
       " 'chad.n.01': 1,\n",
       " 'line.n.18': 1,\n",
       " 'retraction.n.01': 1,\n",
       " 'succulent.n.01': 1,\n",
       " 'cyprinid.n.01': 1,\n",
       " 'plot.n.02': 1,\n",
       " 'solid.n.01': 3,\n",
       " 'movement.n.03': 1,\n",
       " 'sewing.n.02': 1,\n",
       " 'aerosol.n.01': 2,\n",
       " 'british_capacity_unit.n.01': 1,\n",
       " 'dipterous_insect.n.01': 2,\n",
       " \"apothecaries'_unit.n.01\": 1,\n",
       " 'headdress.n.01': 2,\n",
       " 'hairdo.n.01': 1,\n",
       " 'instrument.n.01': 2,\n",
       " 'leader.n.01': 3,\n",
       " 'top.n.10': 1,\n",
       " 'meat.n.01': 1,\n",
       " 'male.n.02': 1,\n",
       " 'specialist.n.01': 1,\n",
       " 'artillery.n.01': 1,\n",
       " 'life_science.n.01': 1,\n",
       " 'melon.n.02': 1,\n",
       " 'scheme.n.01': 1,\n",
       " 'database.n.01': 1,\n",
       " 'upper_surface.n.01': 1,\n",
       " 'reference_point.n.01': 1,\n",
       " 'grandparent.n.01': 2,\n",
       " 'telegram.n.01': 1,\n",
       " 'meal.n.01': 3,\n",
       " 'actinic_radiation.n.01': 1,\n",
       " 'creation.n.02': 1,\n",
       " 'marsupial.n.01': 1,\n",
       " 'line.n.11': 1,\n",
       " 'force.n.04': 2,\n",
       " 'shrub.n.01': 3,\n",
       " 'south_american.n.01': 1,\n",
       " 'punishment.n.01': 1,\n",
       " 'natural_glass.n.01': 1,\n",
       " 'malignant_tumor.n.01': 1,\n",
       " 'motor.n.01': 1,\n",
       " 'force.n.02': 1,\n",
       " 'cleansing_agent.n.01': 2,\n",
       " 'wheel.n.01': 1,\n",
       " 'beetle.n.01': 1,\n",
       " 'symbol.n.01': 2,\n",
       " 'object.n.01': 1,\n",
       " 'expectation.n.01': 1,\n",
       " 'gramineous_plant.n.01': 1,\n",
       " 'auditory_communication.n.01': 1,\n",
       " 'iridaceous_plant.n.01': 3,\n",
       " 'operation.n.05': 2,\n",
       " 'security.n.02': 1,\n",
       " 'kangaroo.n.01': 1,\n",
       " 'art.n.01': 1,\n",
       " 'property.n.02': 4,\n",
       " 'geological_formation.n.01': 3,\n",
       " 'report.n.02': 1,\n",
       " 'head.n.04': 1,\n",
       " 'corridor.n.01': 2,\n",
       " 'faucet.n.01': 1,\n",
       " 'musical_organization.n.01': 1,\n",
       " 'root.n.01': 3,\n",
       " 'anniversary.n.01': 1,\n",
       " 'lightning.n.01': 1,\n",
       " 'farewell.n.01': 1,\n",
       " 'control.n.01': 1,\n",
       " 'digit.n.03': 2,\n",
       " 'tubular_cavity.n.01': 1,\n",
       " 'horizontal_surface.n.01': 1,\n",
       " 'block.n.01': 1,\n",
       " 'secret_agent.n.01': 1,\n",
       " 'public_transport.n.01': 2,\n",
       " 'sphere.n.05': 1,\n",
       " 'cut_of_pork.n.01': 1,\n",
       " 'noisemaker.n.01': 1,\n",
       " 'triangle.n.01': 1,\n",
       " 'trade_book.n.01': 1,\n",
       " 'lymphatic_tissue.n.01': 1,\n",
       " 'fluid.n.01': 1,\n",
       " 'stepchild.n.01': 2,\n",
       " 'dislike.n.02': 1,\n",
       " 'component.n.01': 1,\n",
       " 'cardiopulmonary_exercise.n.01': 1,\n",
       " 'field_game.n.01': 1,\n",
       " 'kinswoman.n.01': 2,\n",
       " 'mixture.n.01': 1,\n",
       " 'habitation.n.01': 1,\n",
       " 'dimension.n.01': 1,\n",
       " 'principal.n.05': 2,\n",
       " 'bovid.n.01': 3,\n",
       " 'leporid.n.01': 1,\n",
       " 'stall.n.03': 1,\n",
       " 'condensation.n.03': 1,\n",
       " 'noble_metal.n.01': 1,\n",
       " 'seabird.n.01': 1,\n",
       " 'pastry.n.02': 1,\n",
       " 'saltwater_fish.n.01': 3,\n",
       " 'transportation.n.02': 1,\n",
       " 'fur.n.01': 3,\n",
       " 'dish.n.02': 7,\n",
       " 'animal_material.n.01': 1,\n",
       " 'globule.n.01': 1,\n",
       " 'flight.n.02': 1,\n",
       " 'storage_space.n.01': 2,\n",
       " 'finger.n.01': 1,\n",
       " 'metric_weight_unit.n.01': 3,\n",
       " 'conic_section.n.01': 2,\n",
       " 'military_service.n.01': 1,\n",
       " 'capital.n.01': 1,\n",
       " 'examination.n.01': 2,\n",
       " 'building_material.n.01': 4,\n",
       " 'blow.n.01': 2,\n",
       " 'artifact.n.01': 8,\n",
       " 'travel.n.01': 1,\n",
       " 'acoustic_device.n.01': 1,\n",
       " 'annoyance.n.02': 1,\n",
       " 'pink.n.02': 1,\n",
       " 'flatfish.n.01': 1,\n",
       " 'transaction.n.01': 1,\n",
       " 'brother.n.01': 1,\n",
       " 'atmospheric_phenomenon.n.01': 2,\n",
       " 'medical_science.n.01': 1,\n",
       " 'consumer.n.01': 1,\n",
       " 'attitude.n.01': 1,\n",
       " 'people.n.01': 2,\n",
       " 'money.n.01': 2,\n",
       " 'cosmic_time.n.01': 1,\n",
       " 'water_travel.n.01': 1,\n",
       " 'division.n.04': 2,\n",
       " 'coinage.n.01': 1,\n",
       " 'acquisition.n.01': 1,\n",
       " 'crucifer.n.01': 4,\n",
       " 'aid.n.02': 1,\n",
       " 'romance.n.03': 1,\n",
       " 'bridge.n.01': 1,\n",
       " 'regular_payment.n.01': 1,\n",
       " 'day.n.04': 2,\n",
       " 'woody_plant.n.01': 2,\n",
       " 'state_of_matter.n.01': 1,\n",
       " 'animal_group.n.01': 1,\n",
       " 'bird_of_prey.n.01': 4,\n",
       " 'gastropod.n.01': 1,\n",
       " 'porridge.n.01': 1,\n",
       " 'administrator.n.01': 1,\n",
       " 'board.n.02': 1,\n",
       " 'beverage.n.01': 6,\n",
       " 'spiritual_being.n.01': 1,\n",
       " 'domestic_fowl.n.01': 1,\n",
       " 'cap.n.01': 1,\n",
       " 'mark.n.10': 1,\n",
       " 'idea.n.01': 1,\n",
       " 'gauge.n.01': 1,\n",
       " 'committee.n.01': 1,\n",
       " 'measuring_instrument.n.01': 5,\n",
       " 'pelecaniform_seabird.n.01': 2,\n",
       " 'shore.n.01': 2,\n",
       " 'source_of_illumination.n.01': 1,\n",
       " 'transmission.n.02': 2,\n",
       " 'computer_network.n.01': 3,\n",
       " 'writer.n.01': 1,\n",
       " 'phone.n.02': 1,\n",
       " 'gully.n.01': 1,\n",
       " 'fuel.n.01': 4,\n",
       " 'striker.n.05': 1,\n",
       " 'restraint.n.06': 1,\n",
       " 'heading.n.01': 2,\n",
       " 'academician.n.03': 1,\n",
       " 'false_nettle.n.01': 1,\n",
       " 'alliaceous_plant.n.01': 4,\n",
       " 'self-propelled_vehicle.n.01': 2,\n",
       " 'exudate.n.01': 1,\n",
       " 'sweetening.n.01': 3,\n",
       " 'skilled_worker.n.01': 7,\n",
       " 'evidence.n.02': 2,\n",
       " 'jar.n.01': 1,\n",
       " 'promotion.n.01': 1,\n",
       " 'dairy_product.n.01': 3,\n",
       " 'statement.n.07': 1,\n",
       " 'double-reed_instrument.n.01': 2,\n",
       " 'form.n.01': 1,\n",
       " 'rock.n.01': 1,\n",
       " 'kitchen_appliance.n.01': 2,\n",
       " 'goal.n.01': 2,\n",
       " 'west_germanic.n.01': 1,\n",
       " 'investigation.n.02': 1,\n",
       " 'stupefaction.n.01': 1,\n",
       " 'placement.n.01': 1,\n",
       " 'residence.n.01': 1,\n",
       " 'duck.n.03': 1,\n",
       " 'organic_process.n.01': 1,\n",
       " 'institution.n.01': 1,\n",
       " 'concrete.n.01': 1,\n",
       " 'delight.n.01': 1,\n",
       " 'angular_shape.n.01': 1,\n",
       " 'contact_sport.n.01': 1,\n",
       " 'plant.n.01': 1,\n",
       " 'name.n.01': 3,\n",
       " 'consequence.n.02': 1,\n",
       " 'device.n.03': 1,\n",
       " 'fence.n.01': 1,\n",
       " 'blind.n.03': 1,\n",
       " 'extent.n.02': 2,\n",
       " 'conserve.n.01': 1,\n",
       " 'educational_institution.n.01': 1,\n",
       " 'vessel.n.02': 4,\n",
       " 'agent.n.03': 1,\n",
       " 'apparition.n.03': 1,\n",
       " 'exhilaration.n.01': 1,\n",
       " 'marking.n.02': 1,\n",
       " 'slide.n.05': 1,\n",
       " 'code.n.03': 2,\n",
       " 'proof.n.01': 1,\n",
       " 'list.n.01': 2,\n",
       " 'bill.n.07': 1,\n",
       " 'representation.n.01': 1,\n",
       " 'circuit.n.01': 1,\n",
       " 'social_group.n.01': 3,\n",
       " 'shirt.n.01': 1,\n",
       " 'questioning.n.01': 2,\n",
       " 'worker.n.01': 5,\n",
       " 'isolation.n.01': 1,\n",
       " 'regulator.n.01': 1,\n",
       " 'rock.n.02': 1,\n",
       " 'prickly_pear.n.01': 1,\n",
       " 'value.n.02': 1,\n",
       " 'transgression.n.01': 1,\n",
       " 'polyhedron.n.01': 1,\n",
       " 'limb.n.01': 2,\n",
       " 'indonesian.n.02': 1,\n",
       " 'musician.n.01': 1,\n",
       " 'legal_action.n.01': 1,\n",
       " 'payment.n.01': 1,\n",
       " 'way.n.06': 2,\n",
       " 'acne.n.01': 1,\n",
       " 'administrative_unit.n.01': 2,\n",
       " 'corn.n.01': 1,\n",
       " 'support.n.02': 1,\n",
       " 'excavation.n.03': 1,\n",
       " 'insect.n.01': 2,\n",
       " 'small_indefinite_quantity.n.01': 1,\n",
       " 'material.n.01': 5,\n",
       " 'solanaceous_vegetable.n.01': 2,\n",
       " 'footwear.n.01': 1,\n",
       " 'percussion_instrument.n.01': 11,\n",
       " 'artillery.n.02': 1,\n",
       " 'furnishing.n.02': 1,\n",
       " 'signboard.n.01': 1,\n",
       " 'natural_process.n.01': 1,\n",
       " 'highway.n.01': 1,\n",
       " 'underpants.n.01': 3,\n",
       " 'imagination.n.02': 2,\n",
       " 'foodstuff.n.02': 1,\n",
       " 'disfavor.n.01': 1,\n",
       " 'tai.n.02': 1,\n",
       " 'pipe.n.04': 1,\n",
       " 'woodwind.n.01': 1,\n",
       " 'communication.n.01': 1,\n",
       " 'table_linen.n.01': 2,\n",
       " 'turnip.n.02': 1,\n",
       " 'belief.n.01': 3,\n",
       " 'protestant.n.01': 1,\n",
       " 'food.n.02': 2,\n",
       " 'harp.n.01': 1,\n",
       " 'farmer.n.01': 1,\n",
       " 'doctor.n.01': 2,\n",
       " 'sadness.n.01': 1,\n",
       " 'squash.n.01': 1,\n",
       " 'screen.n.05': 2,\n",
       " 'vapor.n.01': 1,\n",
       " 'airfield.n.01': 1,\n",
       " 'child.n.02': 2,\n",
       " 'band.n.07': 1,\n",
       " 'needleworker.n.01': 1,\n",
       " 'vascular_plant.n.01': 1,\n",
       " 'tibeto-burman.n.01': 1,\n",
       " 'writing.n.02': 1,\n",
       " 'definite_quantity.n.01': 1,\n",
       " 'performer.n.01': 5,\n",
       " 'process.n.06': 1,\n",
       " 'facial_hair.n.01': 2,\n",
       " 'part.n.01': 1,\n",
       " 'atmosphere.n.04': 1,\n",
       " 'dramatic_composition.n.01': 2,\n",
       " 'inhabitant.n.01': 1,\n",
       " 'airplane.n.01': 4,\n",
       " 'motorboat.n.01': 2,\n",
       " 'fiber_bundle.n.01': 1,\n",
       " 'nutriment.n.01': 1,\n",
       " 'basic_cognitive_process.n.01': 2,\n",
       " 'path.n.03': 2,\n",
       " 'stalk.n.02': 2,\n",
       " 'elite.n.01': 1,\n",
       " 'electric_motor.n.01': 1,\n",
       " 'book.n.01': 4,\n",
       " 'clothing.n.01': 1,\n",
       " 'foal.n.01': 1,\n",
       " 'bodily_process.n.01': 2,\n",
       " 'apparatus.n.01': 1,\n",
       " 'social_control.n.01': 3,\n",
       " 'bow.n.05': 1,\n",
       " 'legal_status.n.01': 1,\n",
       " 'neural_structure.n.01': 1,\n",
       " 'group.n.02': 1,\n",
       " 'large_intestine.n.01': 1,\n",
       " 'linear_unit.n.01': 3,\n",
       " 'command.n.01': 1,\n",
       " 'odd-toed_ungulate.n.01': 1,\n",
       " 'liliaceous_plant.n.01': 2,\n",
       " 'anticipation.n.01': 1,\n",
       " 'pachyderm.n.01': 1,\n",
       " 'medium_of_exchange.n.01': 2,\n",
       " 'musical_notation.n.01': 1,\n",
       " 'output.n.02': 1,\n",
       " 'wind.n.01': 1,\n",
       " 'certificate.n.01': 1,\n",
       " 'round_shape.n.01': 1,\n",
       " 'narcissus.n.01': 1,\n",
       " 'beginning.n.02': 1,\n",
       " 'blunder.n.01': 1,\n",
       " 'recess.n.04': 1,\n",
       " 'noise.n.01': 1,\n",
       " 'covering.n.02': 2,\n",
       " 'west_indian.n.01': 1,\n",
       " 'cooking_utensil.n.01': 2,\n",
       " 'specialist.n.02': 3,\n",
       " 'handkerchief.n.01': 1,\n",
       " 'book.n.02': 3,\n",
       " 'freight_car.n.01': 1,\n",
       " 'mixed_drink.n.01': 1,\n",
       " 'writing_style.n.01': 2,\n",
       " 'sandglass.n.01': 1,\n",
       " 'compatibility.n.02': 1,\n",
       " 'wildfowl.n.01': 3,\n",
       " 'anseriform_bird.n.01': 3,\n",
       " 'car.n.01': 4,\n",
       " 'ovum.n.01': 1,\n",
       " 'medical_building.n.01': 1,\n",
       " 'cognition.n.01': 1,\n",
       " 'oxide.n.01': 1,\n",
       " 'collection.n.01': 7,\n",
       " 'procession.n.02': 2,\n",
       " 'bulb.n.01': 2,\n",
       " 'hour.n.02': 1,\n",
       " 'larid.n.01': 1,\n",
       " 'document.n.02': 1,\n",
       " 'bun.n.01': 2,\n",
       " 'authorization.n.04': 1,\n",
       " 'fear.n.01': 2,\n",
       " 'armor_plate.n.01': 1,\n",
       " 'boat.n.01': 5,\n",
       " 'note.n.07': 2,\n",
       " 'trench.n.01': 1,\n",
       " 'particulate.n.01': 1,\n",
       " 'temptation.n.01': 1,\n",
       " 'reversal.n.04': 1,\n",
       " 'condition.n.01': 3,\n",
       " 'pick.n.07': 1,\n",
       " 'application.n.01': 1,\n",
       " 'internal_organ.n.01': 3,\n",
       " 'chair_of_state.n.01': 1,\n",
       " 'vertebrate_foot.n.01': 2,\n",
       " 'depository.n.01': 1,\n",
       " 'tights.n.01': 1,\n",
       " 'vertebrate.n.01': 1,\n",
       " 'shellfish.n.01': 3,\n",
       " 'military_quarters.n.01': 1,\n",
       " 'professional.n.01': 2,\n",
       " 'causal_agent.n.01': 1,\n",
       " 'contestant.n.01': 2,\n",
       " 'datum.n.01': 1,\n",
       " 'aquatic_bird.n.01': 1,\n",
       " 'rain.n.01': 2,\n",
       " 'punctuation.n.02': 3,\n",
       " 'supernaturalism.n.01': 1,\n",
       " 'game_equipment.n.01': 1,\n",
       " 'financial_condition.n.01': 1,\n",
       " 'lounge.n.02': 1,\n",
       " 'artistic_movement.n.01': 1,\n",
       " 'emotion.n.01': 4,\n",
       " 'physical_phenomenon.n.01': 3,\n",
       " 'enlisted_person.n.01': 1,\n",
       " 'reviewer.n.01': 1,\n",
       " 'short-horned_grasshopper.n.01': 1,\n",
       " 'partition.n.01': 1,\n",
       " 'bread.n.01': 4,\n",
       " 'clamp.n.01': 1,\n",
       " 'decision.n.01': 1,\n",
       " 'base.n.03': 1,\n",
       " 'electric_refrigerator.n.01': 1,\n",
       " 'glass.n.02': 1,\n",
       " 'tube.n.04': 1,\n",
       " 'cut.n.06': 1,\n",
       " 'man-made_fiber.n.01': 2,\n",
       " 'body_of_water.n.01': 6,\n",
       " 'electrical_discharge.n.01': 1,\n",
       " 'percoid_fish.n.01': 1,\n",
       " 'board.n.03': 2,\n",
       " 'walk.n.05': 2,\n",
       " 'weekday.n.01': 6,\n",
       " 'liquid_body_substance.n.01': 1,\n",
       " 'parallelogram.n.01': 1,\n",
       " 'freshwater_fish.n.01': 1,\n",
       " 'attempt.n.01': 1,\n",
       " 'lighter-than-air_craft.n.01': 2,\n",
       " 'snack_food.n.01': 1,\n",
       " 'telephone.n.02': 1,\n",
       " 'information.n.01': 3,\n",
       " 'control.n.09': 1,\n",
       " 'mercantile_establishment.n.01': 2,\n",
       " 'site.n.01': 1,\n",
       " 'float.n.06': 1,\n",
       " 'proposal.n.01': 1,\n",
       " 'domestic_cat.n.01': 1,\n",
       " 'court_game.n.01': 3,\n",
       " 'pauper.n.01': 1,\n",
       " 'weed.n.01': 1,\n",
       " 'drive.n.01': 1,\n",
       " 'wheeled_vehicle.n.01': 1,\n",
       " 'unskilled_person.n.01': 1,\n",
       " 'vagrant.n.01': 1,\n",
       " 'workman.n.01': 1,\n",
       " 'fruit_drink.n.01': 1,\n",
       " 'written_record.n.01': 2,\n",
       " 'thrush.n.03': 1,\n",
       " 'clue.n.02': 1,\n",
       " 'leisure.n.01': 2,\n",
       " 'sound_property.n.01': 1,\n",
       " 'merchant.n.01': 2,\n",
       " 'power.n.01': 1,\n",
       " 'municipality.n.01': 2,\n",
       " 'electrical_phenomenon.n.01': 1,\n",
       " 'earth_science.n.01': 2,\n",
       " 'weapon.n.01': 3,\n",
       " 'military_unit.n.01': 1,\n",
       " 'correctional_institution.n.01': 2,\n",
       " 'craftsman.n.03': 2,\n",
       " 'play.n.08': 1,\n",
       " 'appliance.n.02': 1,\n",
       " 'income.n.01': 1,\n",
       " 'liquid.n.01': 1,\n",
       " 'jersey.n.03': 1,\n",
       " 'medium.n.01': 1,\n",
       " 'utterance.n.01': 3,\n",
       " 'obstacle.n.01': 1,\n",
       " 'natural_virtue.n.01': 1,\n",
       " 'compound_lever.n.01': 1,\n",
       " 'salt.n.01': 1,\n",
       " 'semidarkness.n.01': 1,\n",
       " 'music.n.01': 2,\n",
       " 'line.n.04': 1,\n",
       " 'tuber.n.01': 1,\n",
       " 'european.n.01': 6,\n",
       " 'photographic_equipment.n.01': 1,\n",
       " 'fish.n.02': 2,\n",
       " 'rodent.n.01': 6,\n",
       " 'synthetic_resin.n.01': 2,\n",
       " ...}"
      ]
     },
     "execution_count": 61,
     "metadata": {},
     "output_type": "execute_result"
    }
   ],
   "source": [
    "categories"
   ]
  },
  {
   "cell_type": "code",
   "execution_count": 62,
   "metadata": {
    "collapsed": false
   },
   "outputs": [
    {
     "data": {
      "text/plain": [
       "1307"
      ]
     },
     "execution_count": 62,
     "metadata": {},
     "output_type": "execute_result"
    }
   ],
   "source": [
    "len(categories)"
   ]
  },
  {
   "cell_type": "code",
   "execution_count": 63,
   "metadata": {
    "collapsed": false
   },
   "outputs": [
    {
     "data": {
      "text/plain": [
       "'professional.n.01'"
      ]
     },
     "execution_count": 63,
     "metadata": {},
     "output_type": "execute_result"
    }
   ],
   "source": [
    "categorize(\"craftsman\")"
   ]
  },
  {
   "cell_type": "code",
   "execution_count": 64,
   "metadata": {
    "collapsed": false
   },
   "outputs": [
    {
     "data": {
      "text/plain": [
       "[Synset('person.n.01')]"
      ]
     },
     "execution_count": 64,
     "metadata": {},
     "output_type": "execute_result"
    }
   ],
   "source": [
    "wn.synset('person.n.01').lowest_common_hypernyms(wn.synset('chef.n.01'))"
   ]
  },
  {
   "cell_type": "code",
   "execution_count": 65,
   "metadata": {
    "collapsed": false
   },
   "outputs": [
    {
     "data": {
      "text/plain": [
       "[Synset('object.n.01')]"
      ]
     },
     "execution_count": 65,
     "metadata": {},
     "output_type": "execute_result"
    }
   ],
   "source": [
    "wn.synset('place.n.01').lowest_common_hypernyms(wn.synset('chef.n.01'))"
   ]
  },
  {
   "cell_type": "code",
   "execution_count": 66,
   "metadata": {
    "collapsed": false
   },
   "outputs": [
    {
     "data": {
      "text/plain": [
       "[Synset('entity.n.01')]"
      ]
     },
     "execution_count": 66,
     "metadata": {},
     "output_type": "execute_result"
    }
   ],
   "source": [
    "wn.synset('thing.n.01').lowest_common_hypernyms(wn.synset('chef.n.01'))"
   ]
  },
  {
   "cell_type": "code",
   "execution_count": 67,
   "metadata": {
    "collapsed": false
   },
   "outputs": [
    {
     "data": {
      "text/plain": [
       "[Synset('object.n.01')]"
      ]
     },
     "execution_count": 67,
     "metadata": {},
     "output_type": "execute_result"
    }
   ],
   "source": [
    "wn.synset('place.n.01').lowest_common_hypernyms(wn.synset('restaurant.n.01'))"
   ]
  },
  {
   "cell_type": "code",
   "execution_count": 79,
   "metadata": {
    "collapsed": false
   },
   "outputs": [],
   "source": [
    "place = wn.synset(\"place.n.01\")\n",
    "person = wn.synset(\"person.n.01\")\n",
    "thing = wn.synset(\"thing.n.01\")\n",
    "\n",
    "craftsman = wn.synsets(\"craftsman\", 'n')[0]\n",
    "dog = wn.synsets(\"dog\", \"n\")[0]\n",
    "computer = wn.synsets(\"computer\", \"n\")[0]\n"
   ]
  },
  {
   "cell_type": "code",
   "execution_count": 75,
   "metadata": {
    "collapsed": false
   },
   "outputs": [
    {
     "data": {
      "text/plain": [
       "0.1"
      ]
     },
     "execution_count": 75,
     "metadata": {},
     "output_type": "execute_result"
    }
   ],
   "source": [
    "place.path_similarity(craftsman)"
   ]
  },
  {
   "cell_type": "code",
   "execution_count": 76,
   "metadata": {
    "collapsed": false
   },
   "outputs": [
    {
     "data": {
      "text/plain": [
       "0.25"
      ]
     },
     "execution_count": 76,
     "metadata": {},
     "output_type": "execute_result"
    }
   ],
   "source": [
    "person.path_similarity(craftsman)"
   ]
  },
  {
   "cell_type": "code",
   "execution_count": 80,
   "metadata": {
    "collapsed": false
   },
   "outputs": [
    {
     "data": {
      "text/plain": [
       "0.1"
      ]
     },
     "execution_count": 80,
     "metadata": {},
     "output_type": "execute_result"
    }
   ],
   "source": [
    "place.path_similarity(dog)"
   ]
  },
  {
   "cell_type": "code",
   "execution_count": 81,
   "metadata": {
    "collapsed": false
   },
   "outputs": [
    {
     "data": {
      "text/plain": [
       "0.2"
      ]
     },
     "execution_count": 81,
     "metadata": {},
     "output_type": "execute_result"
    }
   ],
   "source": [
    "person.path_similarity(dog)"
   ]
  },
  {
   "cell_type": "code",
   "execution_count": 82,
   "metadata": {
    "collapsed": false
   },
   "outputs": [
    {
     "data": {
      "text/plain": [
       "0.07142857142857142"
      ]
     },
     "execution_count": 82,
     "metadata": {},
     "output_type": "execute_result"
    }
   ],
   "source": [
    "thing.path_similarity(dog)"
   ]
  },
  {
   "cell_type": "code",
   "execution_count": 83,
   "metadata": {
    "collapsed": false
   },
   "outputs": [
    {
     "data": {
      "text/plain": [
       "0.1"
      ]
     },
     "execution_count": 83,
     "metadata": {},
     "output_type": "execute_result"
    }
   ],
   "source": [
    "place.path_similarity(computer)"
   ]
  },
  {
   "cell_type": "code",
   "execution_count": 84,
   "metadata": {
    "collapsed": false
   },
   "outputs": [
    {
     "data": {
      "text/plain": [
       "0.1111111111111111"
      ]
     },
     "execution_count": 84,
     "metadata": {},
     "output_type": "execute_result"
    }
   ],
   "source": [
    "person.path_similarity(computer)"
   ]
  },
  {
   "cell_type": "code",
   "execution_count": 85,
   "metadata": {
    "collapsed": false
   },
   "outputs": [
    {
     "data": {
      "text/plain": [
       "0.07142857142857142"
      ]
     },
     "execution_count": 85,
     "metadata": {},
     "output_type": "execute_result"
    }
   ],
   "source": [
    "thing.path_similarity(computer)"
   ]
  },
  {
   "cell_type": "code",
   "execution_count": 86,
   "metadata": {
    "collapsed": false
   },
   "outputs": [
    {
     "data": {
      "text/plain": [
       "0.1111111111111111"
      ]
     },
     "execution_count": 86,
     "metadata": {},
     "output_type": "execute_result"
    }
   ],
   "source": [
    "computer = wn.synsets(\"computer\", \"n\")[1]\n",
    "\n",
    "place.path_similarity(computer)\n"
   ]
  },
  {
   "cell_type": "code",
   "execution_count": 87,
   "metadata": {
    "collapsed": false
   },
   "outputs": [
    {
     "data": {
      "text/plain": [
       "0.3333333333333333"
      ]
     },
     "execution_count": 87,
     "metadata": {},
     "output_type": "execute_result"
    }
   ],
   "source": [
    "person.path_similarity(computer)"
   ]
  },
  {
   "cell_type": "code",
   "execution_count": 88,
   "metadata": {
    "collapsed": false
   },
   "outputs": [
    {
     "data": {
      "text/plain": [
       "0.09090909090909091"
      ]
     },
     "execution_count": 88,
     "metadata": {},
     "output_type": "execute_result"
    }
   ],
   "source": [
    "thing.path_similarity(computer)"
   ]
  },
  {
   "cell_type": "code",
   "execution_count": 91,
   "metadata": {
    "collapsed": false
   },
   "outputs": [],
   "source": [
    "rabbit = wn.synsets(\"rabbit\", \"n\")[0]"
   ]
  },
  {
   "cell_type": "code",
   "execution_count": 93,
   "metadata": {
    "collapsed": false
   },
   "outputs": [
    {
     "data": {
      "text/plain": [
       "[[Synset('entity.n.01'),\n",
       "  Synset('physical_entity.n.01'),\n",
       "  Synset('object.n.01'),\n",
       "  Synset('whole.n.02'),\n",
       "  Synset('living_thing.n.01'),\n",
       "  Synset('organism.n.01'),\n",
       "  Synset('animal.n.01'),\n",
       "  Synset('chordate.n.01'),\n",
       "  Synset('vertebrate.n.01'),\n",
       "  Synset('mammal.n.01'),\n",
       "  Synset('placental.n.01'),\n",
       "  Synset('lagomorph.n.01'),\n",
       "  Synset('leporid.n.01'),\n",
       "  Synset('rabbit.n.01')]]"
      ]
     },
     "execution_count": 93,
     "metadata": {},
     "output_type": "execute_result"
    }
   ],
   "source": [
    "rabbit.hypernym_paths()"
   ]
  },
  {
   "cell_type": "markdown",
   "metadata": {},
   "source": [
    "## Test Number of Categories in a level"
   ]
  },
  {
   "cell_type": "code",
   "execution_count": 105,
   "metadata": {
    "collapsed": true
   },
   "outputs": [],
   "source": [
    "categories = {}\n",
    "for noun in noun_list:\n",
    "    category = categorize(noun, level=2)\n",
    "    if category not in categories:\n",
    "        categories[category] = 1\n",
    "    else:\n",
    "        categories[category] = categories[category] + 1\n",
    "        "
   ]
  },
  {
   "cell_type": "code",
   "execution_count": 106,
   "metadata": {
    "collapsed": false
   },
   "outputs": [
    {
     "data": {
      "text/plain": [
       "12"
      ]
     },
     "execution_count": 106,
     "metadata": {},
     "output_type": "execute_result"
    }
   ],
   "source": [
    "len(categories)"
   ]
  },
  {
   "cell_type": "code",
   "execution_count": 107,
   "metadata": {
    "collapsed": true
   },
   "outputs": [],
   "source": [
    "categories = {}\n",
    "for noun in noun_list:\n",
    "    category = categorize(noun, level=3)\n",
    "    if category not in categories:\n",
    "        categories[category] = 1\n",
    "    else:\n",
    "        categories[category] = categories[category] + 1\n",
    "print(\"level 3: \", len(categories))"
   ]
  },
  {
   "cell_type": "code",
   "execution_count": 108,
   "metadata": {
    "collapsed": false
   },
   "outputs": [
    {
     "name": "stdout",
     "output_type": "stream",
     "text": [
      "level 3:  67\n"
     ]
    }
   ],
   "source": []
  },
  {
   "cell_type": "code",
   "execution_count": 110,
   "metadata": {
    "collapsed": false
   },
   "outputs": [
    {
     "data": {
      "text/plain": [
       "'object.n.01'"
      ]
     },
     "execution_count": 110,
     "metadata": {},
     "output_type": "execute_result"
    }
   ],
   "source": [
    "categorize(\"dog\", level=2)"
   ]
  },
  {
   "cell_type": "code",
   "execution_count": 118,
   "metadata": {
    "collapsed": false
   },
   "outputs": [
    {
     "data": {
      "text/plain": [
       "'whole.n.02'"
      ]
     },
     "execution_count": 118,
     "metadata": {},
     "output_type": "execute_result"
    }
   ],
   "source": [
    "categorize(\"dog\", level=3)"
   ]
  },
  {
   "cell_type": "code",
   "execution_count": 119,
   "metadata": {
    "collapsed": false
   },
   "outputs": [
    {
     "data": {
      "text/plain": [
       "'living_thing.n.01'"
      ]
     },
     "execution_count": 119,
     "metadata": {},
     "output_type": "execute_result"
    }
   ],
   "source": [
    "categorize(\"dog\", level=4)"
   ]
  },
  {
   "cell_type": "code",
   "execution_count": 111,
   "metadata": {
    "collapsed": false
   },
   "outputs": [
    {
     "data": {
      "text/plain": [
       "'causal_agent.n.01'"
      ]
     },
     "execution_count": 111,
     "metadata": {},
     "output_type": "execute_result"
    }
   ],
   "source": [
    "categorize(\"craftsman\", level=2)"
   ]
  },
  {
   "cell_type": "code",
   "execution_count": 112,
   "metadata": {
    "collapsed": false
   },
   "outputs": [
    {
     "data": {
      "text/plain": [
       "'object.n.01'"
      ]
     },
     "execution_count": 112,
     "metadata": {},
     "output_type": "execute_result"
    }
   ],
   "source": [
    "categorize(\"computer\", level=2)"
   ]
  },
  {
   "cell_type": "code",
   "execution_count": 113,
   "metadata": {
    "collapsed": false
   },
   "outputs": [
    {
     "data": {
      "text/plain": [
       "'object.n.01'"
      ]
     },
     "execution_count": 113,
     "metadata": {},
     "output_type": "execute_result"
    }
   ],
   "source": [
    "categorize(\"cafe\", level=2)"
   ]
  },
  {
   "cell_type": "code",
   "execution_count": 114,
   "metadata": {
    "collapsed": false
   },
   "outputs": [
    {
     "data": {
      "text/plain": [
       "'object.n.01'"
      ]
     },
     "execution_count": 114,
     "metadata": {},
     "output_type": "execute_result"
    }
   ],
   "source": [
    "categorize(\"hospital\", level=2)"
   ]
  },
  {
   "cell_type": "code",
   "execution_count": 122,
   "metadata": {
    "collapsed": true
   },
   "outputs": [],
   "source": [
    "categories = {}\n",
    "for noun in noun_list:\n",
    "    category = categorize(noun, level=-1)\n",
    "    if category not in categories:\n",
    "        categories[category] = 1\n",
    "    else:\n",
    "        categories[category] = categories[category] + 1\n",
    "        "
   ]
  },
  {
   "cell_type": "code",
   "execution_count": 123,
   "metadata": {
    "collapsed": false
   },
   "outputs": [
    {
     "data": {
      "text/plain": [
       "2149"
      ]
     },
     "execution_count": 123,
     "metadata": {},
     "output_type": "execute_result"
    }
   ],
   "source": [
    "len(categories)"
   ]
  },
  {
   "cell_type": "code",
   "execution_count": 17,
   "metadata": {
    "collapsed": false
   },
   "outputs": [
    {
     "name": "stdout",
     "output_type": "stream",
     "text": [
      "level 4:  267\n"
     ]
    }
   ],
   "source": [
    "categories = {}\n",
    "for noun in noun_list:\n",
    "    category = categorize(noun, level=4)\n",
    "    if category not in categories:\n",
    "        categories[category] = 1\n",
    "    else:\n",
    "        categories[category] = categories[category] + 1\n",
    "print(\"level 4: \", len(categories))"
   ]
  },
  {
   "cell_type": "code",
   "execution_count": 126,
   "metadata": {
    "collapsed": false
   },
   "outputs": [
    {
     "data": {
      "text/plain": [
       "{'growth.n.01': 1,\n",
       " 'region.n.01': 13,\n",
       " 'tactile_property.n.01': 1,\n",
       " 'ash.n.01': 1,\n",
       " 'sound_property.n.01': 4,\n",
       " 'transferred_property.n.01': 8,\n",
       " 'artifact.n.01': 521,\n",
       " 'island.n.01': 2,\n",
       " 'direction.n.06': 2,\n",
       " 'commitment.n.04': 1,\n",
       " 'lake.n.01': 2,\n",
       " 'flare.n.01': 1,\n",
       " 'physical_property.n.01': 1,\n",
       " 'body_substance.n.01': 1,\n",
       " None: 107,\n",
       " 'narrative.n.01': 1,\n",
       " 'utterance.n.01': 3,\n",
       " 'capricorn.n.01': 1,\n",
       " 'cosmic_time.n.01': 1,\n",
       " 'congregation.n.01': 1,\n",
       " 'gathering.n.01': 7,\n",
       " 'cave.n.01': 1,\n",
       " 'being.n.01': 2,\n",
       " 'line.n.04': 7,\n",
       " 'speech.n.02': 4,\n",
       " 'law.n.01': 1,\n",
       " 'separation.n.01': 1,\n",
       " 'liabilities.n.01': 2,\n",
       " 'inhabitant.n.01': 17,\n",
       " 'animal_group.n.01': 1,\n",
       " 'slope.n.01': 3,\n",
       " 'illumination.n.02': 2,\n",
       " 'bad_person.n.01': 5,\n",
       " 'past.n.01': 1,\n",
       " 'power.n.01': 4,\n",
       " 'large_person.n.01': 1,\n",
       " 'case.n.06': 2,\n",
       " 'unit_of_measurement.n.01': 21,\n",
       " 'natural_object.n.01': 50,\n",
       " 'chemical_process.n.01': 3,\n",
       " 'ease.n.01': 1,\n",
       " 'ordering.n.01': 1,\n",
       " 'temperature.n.01': 2,\n",
       " 'evidence.n.02': 7,\n",
       " 'engineer.n.01': 1,\n",
       " 'wetland.n.01': 1,\n",
       " 'radical.n.03': 1,\n",
       " 'fuel.n.01': 6,\n",
       " 'scientist.n.01': 4,\n",
       " 'natural_elevation.n.01': 2,\n",
       " 'order.n.03': 1,\n",
       " 'rotational_latency.n.01': 1,\n",
       " 'unfortunate.n.01': 3,\n",
       " 'entertainer.n.01': 10,\n",
       " 'libra.n.01': 1,\n",
       " 'acknowledgment.n.03': 2,\n",
       " 'connection.n.06': 2,\n",
       " 'promotion.n.01': 2,\n",
       " 'body_part.n.01': 55,\n",
       " 'day.n.01': 2,\n",
       " 'minute.n.01': 1,\n",
       " 'driver.n.01': 2,\n",
       " 'natural_phenomenon.n.01': 40,\n",
       " 'assets.n.01': 11,\n",
       " 'native.n.01': 2,\n",
       " 'remainder.n.01': 1,\n",
       " 'supply.n.01': 1,\n",
       " 'component.n.03': 1,\n",
       " 'bay.n.01': 1,\n",
       " 'obligation.n.02': 1,\n",
       " 'property.n.01': 3,\n",
       " 'innocent.n.01': 1,\n",
       " 'communicator.n.01': 12,\n",
       " 'preserver.n.03': 5,\n",
       " 'waterfall.n.01': 1,\n",
       " 'worth.n.02': 1,\n",
       " 'chemical_agent.n.01': 1,\n",
       " 'request.n.01': 1,\n",
       " 'limit.n.06': 1,\n",
       " 'occultist.n.01': 1,\n",
       " 'act.n.02': 130,\n",
       " 'seeder.n.01': 1,\n",
       " 'chemical_element.n.01': 17,\n",
       " 'direction.n.02': 1,\n",
       " 'drug.n.01': 2,\n",
       " 'cognitive_factor.n.01': 5,\n",
       " 'ocean.n.01': 1,\n",
       " 'process.n.02': 19,\n",
       " 'mail.n.01': 2,\n",
       " 'wit.n.01': 3,\n",
       " 'record.n.07': 2,\n",
       " 'millisecond.n.01': 1,\n",
       " 'worker.n.01': 35,\n",
       " 'asset.n.01': 2,\n",
       " 'angular_shape.n.01': 1,\n",
       " 'magnitude.n.01': 6,\n",
       " 'happening.n.01': 30,\n",
       " 'attitude.n.01': 2,\n",
       " 'weasel.n.01': 1,\n",
       " 'linkage.n.01': 1,\n",
       " 'region.n.03': 67,\n",
       " 'hazard.n.01': 1,\n",
       " 'jew.n.01': 1,\n",
       " 'organization.n.01': 27,\n",
       " 'cycle.n.01': 1,\n",
       " 'sagittarius.n.01': 1,\n",
       " 'small_indefinite_quantity.n.01': 4,\n",
       " 'expert.n.01': 7,\n",
       " 'approval.n.04': 2,\n",
       " 'material.n.01': 69,\n",
       " 'juvenile.n.01': 2,\n",
       " 'sea.n.01': 1,\n",
       " 'action.n.02': 2,\n",
       " 'fauna.n.01': 1,\n",
       " 'writing.n.04': 4,\n",
       " 'second.n.01': 1,\n",
       " 'writing.n.02': 25,\n",
       " 'difference.n.01': 1,\n",
       " 'shore.n.01': 2,\n",
       " 'fidelity.n.02': 1,\n",
       " 'leo.n.01': 1,\n",
       " 'feedback.n.01': 1,\n",
       " 'appearance.n.01': 2,\n",
       " 'warrior.n.01': 1,\n",
       " 'situation.n.01': 7,\n",
       " 'creditor.n.01': 1,\n",
       " 'poison.n.01': 1,\n",
       " 'subject.n.01': 1,\n",
       " 'beach.n.01': 1,\n",
       " 'condition.n.01': 27,\n",
       " 'combatant.n.01': 1,\n",
       " 'powder.n.01': 1,\n",
       " 'solid.n.03': 4,\n",
       " 'standard.n.01': 9,\n",
       " 'food.n.02': 47,\n",
       " 'scorpio.n.01': 2,\n",
       " 'religious_person.n.01': 2,\n",
       " 'small_person.n.01': 1,\n",
       " 'aquarius.n.01': 1,\n",
       " 'deadline.n.01': 1,\n",
       " 'hour.n.01': 1,\n",
       " 'tiger.n.01': 1,\n",
       " 'number.n.02': 3,\n",
       " 'disputant.n.01': 2,\n",
       " 'movement.n.04': 1,\n",
       " 'domestic_partner.n.01': 2,\n",
       " 'capitalist.n.02': 9,\n",
       " 'landmass.n.01': 5,\n",
       " 'natural_language.n.01': 12,\n",
       " 'language_unit.n.01': 8,\n",
       " 'addition.n.03': 1,\n",
       " 'degree.n.01': 2,\n",
       " 'precipitation.n.01': 1,\n",
       " 'reminder.n.01': 1,\n",
       " 'society.n.01': 1,\n",
       " 'traffic.n.01': 1,\n",
       " 'characteristic.n.02': 1,\n",
       " 'content.n.05': 46,\n",
       " 'vegetation.n.01': 3,\n",
       " 'crystal.n.01': 4,\n",
       " 'temperature_change.n.01': 1,\n",
       " 'point.n.02': 9,\n",
       " 'feeling.n.01': 20,\n",
       " 'formation.n.01': 3,\n",
       " 'attentiveness.n.03': 1,\n",
       " 'consequence.n.01': 3,\n",
       " 'indicator.n.02': 1,\n",
       " 'biome.n.01': 1,\n",
       " 'rate.n.01': 1,\n",
       " 'bad.n.01': 1,\n",
       " 'urge.n.01': 1,\n",
       " 'statement.n.01': 10,\n",
       " 'ability.n.02': 7,\n",
       " 'time_period.n.01': 45,\n",
       " 'music.n.01': 6,\n",
       " 'plain.n.01': 2,\n",
       " 'food.n.01': 52,\n",
       " 'friend.n.01': 1,\n",
       " 'manner.n.01': 1,\n",
       " 'group.n.02': 1,\n",
       " 'set.n.05': 1,\n",
       " 'structure.n.03': 2,\n",
       " 'large_indefinite_quantity.n.01': 1,\n",
       " 'musical_time.n.01': 2,\n",
       " 'information.n.02': 10,\n",
       " 'rational_motive.n.01': 1,\n",
       " 'spatial_property.n.01': 1,\n",
       " 'input_signal.n.01': 1,\n",
       " 'creator.n.02': 11,\n",
       " 'condition.n.03': 1,\n",
       " 'beginning.n.02': 1,\n",
       " 'bodily_process.n.01': 3,\n",
       " 'social_event.n.01': 1,\n",
       " 'array.n.01': 1,\n",
       " 'placement.n.01': 2,\n",
       " 'hub.n.01': 1,\n",
       " 'class.n.01': 2,\n",
       " 'user.n.01': 2,\n",
       " 'round_shape.n.01': 4,\n",
       " 'visual_property.n.01': 11,\n",
       " 'natural_depression.n.01': 3,\n",
       " 'amorphous_shape.n.01': 7,\n",
       " 'leader.n.01': 14,\n",
       " 'adjudicator.n.01': 1,\n",
       " 'gas.n.02': 4,\n",
       " 'set.n.01': 3,\n",
       " 'section.n.04': 1,\n",
       " 'atom.n.01': 1,\n",
       " 'procession.n.02': 2,\n",
       " 'ostrich.n.01': 1,\n",
       " 'adult.n.01': 23,\n",
       " 'mass.n.01': 1,\n",
       " 'string_of_words.n.01': 1,\n",
       " 'white.n.01': 1,\n",
       " 'telegram.n.01': 1,\n",
       " 'writing_style.n.01': 3,\n",
       " 'line.n.11': 4,\n",
       " 'perceiver.n.01': 1,\n",
       " 'grammatical_relation.n.01': 1,\n",
       " 'living_thing.n.01': 198,\n",
       " 'competition.n.01': 1,\n",
       " 'music_genre.n.01': 2,\n",
       " 'virgo.n.01': 1,\n",
       " 'end.n.02': 1,\n",
       " 'conflict.n.04': 1,\n",
       " 'traveler.n.01': 5,\n",
       " 'symbol.n.01': 8,\n",
       " 'plastic.n.01': 1,\n",
       " 'agglomeration.n.01': 1,\n",
       " 'population.n.01': 1,\n",
       " 'contestant.n.01': 4,\n",
       " 'relative.n.01': 30,\n",
       " 'debtor.n.01': 1,\n",
       " 'mind.n.01': 1,\n",
       " 'network.n.01': 1,\n",
       " 'nation.n.02': 2,\n",
       " 'appendage.n.03': 1,\n",
       " 'elegance.n.01': 1,\n",
       " 'archipelago.n.01': 1,\n",
       " 'status.n.01': 1,\n",
       " 'molecule.n.01': 4,\n",
       " 'aries.n.01': 1,\n",
       " 'slave.n.01': 1,\n",
       " 'inaction.n.01': 1,\n",
       " 'fluid.n.01': 2,\n",
       " 'radio_beam.n.01': 1,\n",
       " 'print.n.01': 1,\n",
       " 'dead.n.01': 1,\n",
       " 'glass.n.01': 2,\n",
       " 'gesture.n.02': 3,\n",
       " 'mixture.n.01': 6,\n",
       " 'figure.n.06': 12,\n",
       " 'singing_voice.n.01': 1,\n",
       " 'age.n.01': 1,\n",
       " 'ratio.n.01': 1,\n",
       " 'stream.n.01': 4,\n",
       " 'male.n.02': 1,\n",
       " 'peen.n.01': 1,\n",
       " 'information.n.01': 8,\n",
       " 'jumper.n.01': 1,\n",
       " 'proposal.n.01': 1,\n",
       " 'morality.n.01': 1,\n",
       " 'gemini.n.01': 1,\n",
       " 'package.n.01': 2,\n",
       " 'class.n.03': 1,\n",
       " 'body.n.02': 4,\n",
       " 'unskilled_person.n.01': 2}"
      ]
     },
     "execution_count": 126,
     "metadata": {},
     "output_type": "execute_result"
    }
   ],
   "source": [
    "categories"
   ]
  },
  {
   "cell_type": "code",
   "execution_count": 127,
   "metadata": {
    "collapsed": false
   },
   "outputs": [
    {
     "data": {
      "text/plain": [
       "[('growth.n.01', 1),\n",
       " ('tactile_property.n.01', 1),\n",
       " ('ash.n.01', 1),\n",
       " ('commitment.n.04', 1),\n",
       " ('flare.n.01', 1),\n",
       " ('physical_property.n.01', 1),\n",
       " ('body_substance.n.01', 1),\n",
       " ('narrative.n.01', 1),\n",
       " ('capricorn.n.01', 1),\n",
       " ('cosmic_time.n.01', 1),\n",
       " ('congregation.n.01', 1),\n",
       " ('cave.n.01', 1),\n",
       " ('law.n.01', 1),\n",
       " ('separation.n.01', 1),\n",
       " ('animal_group.n.01', 1),\n",
       " ('past.n.01', 1),\n",
       " ('large_person.n.01', 1),\n",
       " ('ease.n.01', 1),\n",
       " ('ordering.n.01', 1),\n",
       " ('engineer.n.01', 1),\n",
       " ('wetland.n.01', 1),\n",
       " ('radical.n.03', 1),\n",
       " ('order.n.03', 1),\n",
       " ('rotational_latency.n.01', 1),\n",
       " ('libra.n.01', 1),\n",
       " ('minute.n.01', 1),\n",
       " ('remainder.n.01', 1),\n",
       " ('supply.n.01', 1),\n",
       " ('component.n.03', 1),\n",
       " ('bay.n.01', 1),\n",
       " ('obligation.n.02', 1),\n",
       " ('innocent.n.01', 1),\n",
       " ('waterfall.n.01', 1),\n",
       " ('worth.n.02', 1),\n",
       " ('chemical_agent.n.01', 1),\n",
       " ('request.n.01', 1),\n",
       " ('limit.n.06', 1),\n",
       " ('occultist.n.01', 1),\n",
       " ('seeder.n.01', 1),\n",
       " ('direction.n.02', 1),\n",
       " ('ocean.n.01', 1),\n",
       " ('millisecond.n.01', 1),\n",
       " ('angular_shape.n.01', 1),\n",
       " ('weasel.n.01', 1),\n",
       " ('linkage.n.01', 1),\n",
       " ('hazard.n.01', 1),\n",
       " ('jew.n.01', 1),\n",
       " ('cycle.n.01', 1),\n",
       " ('sagittarius.n.01', 1),\n",
       " ('sea.n.01', 1),\n",
       " ('fauna.n.01', 1),\n",
       " ('second.n.01', 1),\n",
       " ('difference.n.01', 1),\n",
       " ('fidelity.n.02', 1),\n",
       " ('leo.n.01', 1),\n",
       " ('feedback.n.01', 1),\n",
       " ('warrior.n.01', 1),\n",
       " ('creditor.n.01', 1),\n",
       " ('poison.n.01', 1),\n",
       " ('subject.n.01', 1),\n",
       " ('beach.n.01', 1),\n",
       " ('combatant.n.01', 1),\n",
       " ('powder.n.01', 1),\n",
       " ('small_person.n.01', 1),\n",
       " ('aquarius.n.01', 1),\n",
       " ('deadline.n.01', 1),\n",
       " ('hour.n.01', 1),\n",
       " ('tiger.n.01', 1),\n",
       " ('movement.n.04', 1),\n",
       " ('addition.n.03', 1),\n",
       " ('precipitation.n.01', 1),\n",
       " ('reminder.n.01', 1),\n",
       " ('society.n.01', 1),\n",
       " ('traffic.n.01', 1),\n",
       " ('characteristic.n.02', 1),\n",
       " ('temperature_change.n.01', 1),\n",
       " ('attentiveness.n.03', 1),\n",
       " ('indicator.n.02', 1),\n",
       " ('biome.n.01', 1),\n",
       " ('rate.n.01', 1),\n",
       " ('bad.n.01', 1),\n",
       " ('urge.n.01', 1),\n",
       " ('friend.n.01', 1),\n",
       " ('manner.n.01', 1),\n",
       " ('group.n.02', 1),\n",
       " ('set.n.05', 1),\n",
       " ('large_indefinite_quantity.n.01', 1),\n",
       " ('rational_motive.n.01', 1),\n",
       " ('spatial_property.n.01', 1),\n",
       " ('input_signal.n.01', 1),\n",
       " ('condition.n.03', 1),\n",
       " ('beginning.n.02', 1),\n",
       " ('social_event.n.01', 1),\n",
       " ('array.n.01', 1),\n",
       " ('hub.n.01', 1),\n",
       " ('adjudicator.n.01', 1),\n",
       " ('section.n.04', 1),\n",
       " ('atom.n.01', 1),\n",
       " ('ostrich.n.01', 1),\n",
       " ('mass.n.01', 1),\n",
       " ('string_of_words.n.01', 1),\n",
       " ('white.n.01', 1),\n",
       " ('telegram.n.01', 1),\n",
       " ('perceiver.n.01', 1),\n",
       " ('grammatical_relation.n.01', 1),\n",
       " ('competition.n.01', 1),\n",
       " ('virgo.n.01', 1),\n",
       " ('end.n.02', 1),\n",
       " ('conflict.n.04', 1),\n",
       " ('plastic.n.01', 1),\n",
       " ('agglomeration.n.01', 1),\n",
       " ('population.n.01', 1),\n",
       " ('debtor.n.01', 1),\n",
       " ('mind.n.01', 1),\n",
       " ('network.n.01', 1),\n",
       " ('appendage.n.03', 1),\n",
       " ('elegance.n.01', 1),\n",
       " ('archipelago.n.01', 1),\n",
       " ('status.n.01', 1),\n",
       " ('aries.n.01', 1),\n",
       " ('slave.n.01', 1),\n",
       " ('inaction.n.01', 1),\n",
       " ('radio_beam.n.01', 1),\n",
       " ('print.n.01', 1),\n",
       " ('dead.n.01', 1),\n",
       " ('singing_voice.n.01', 1),\n",
       " ('age.n.01', 1),\n",
       " ('ratio.n.01', 1),\n",
       " ('male.n.02', 1),\n",
       " ('peen.n.01', 1),\n",
       " ('jumper.n.01', 1),\n",
       " ('proposal.n.01', 1),\n",
       " ('morality.n.01', 1),\n",
       " ('gemini.n.01', 1),\n",
       " ('class.n.03', 1),\n",
       " ('island.n.01', 2),\n",
       " ('direction.n.06', 2),\n",
       " ('lake.n.01', 2),\n",
       " ('being.n.01', 2),\n",
       " ('liabilities.n.01', 2),\n",
       " ('illumination.n.02', 2),\n",
       " ('case.n.06', 2),\n",
       " ('temperature.n.01', 2),\n",
       " ('natural_elevation.n.01', 2),\n",
       " ('acknowledgment.n.03', 2),\n",
       " ('connection.n.06', 2),\n",
       " ('promotion.n.01', 2),\n",
       " ('day.n.01', 2),\n",
       " ('driver.n.01', 2),\n",
       " ('native.n.01', 2),\n",
       " ('drug.n.01', 2),\n",
       " ('mail.n.01', 2),\n",
       " ('record.n.07', 2),\n",
       " ('asset.n.01', 2),\n",
       " ('attitude.n.01', 2),\n",
       " ('approval.n.04', 2),\n",
       " ('juvenile.n.01', 2),\n",
       " ('action.n.02', 2),\n",
       " ('shore.n.01', 2),\n",
       " ('appearance.n.01', 2),\n",
       " ('scorpio.n.01', 2),\n",
       " ('religious_person.n.01', 2),\n",
       " ('disputant.n.01', 2),\n",
       " ('domestic_partner.n.01', 2),\n",
       " ('degree.n.01', 2),\n",
       " ('plain.n.01', 2),\n",
       " ('structure.n.03', 2),\n",
       " ('musical_time.n.01', 2),\n",
       " ('placement.n.01', 2),\n",
       " ('class.n.01', 2),\n",
       " ('user.n.01', 2),\n",
       " ('procession.n.02', 2),\n",
       " ('music_genre.n.01', 2),\n",
       " ('nation.n.02', 2),\n",
       " ('fluid.n.01', 2),\n",
       " ('glass.n.01', 2),\n",
       " ('package.n.01', 2),\n",
       " ('unskilled_person.n.01', 2),\n",
       " ('utterance.n.01', 3),\n",
       " ('slope.n.01', 3),\n",
       " ('chemical_process.n.01', 3),\n",
       " ('unfortunate.n.01', 3),\n",
       " ('property.n.01', 3),\n",
       " ('wit.n.01', 3),\n",
       " ('number.n.02', 3),\n",
       " ('vegetation.n.01', 3),\n",
       " ('formation.n.01', 3),\n",
       " ('consequence.n.01', 3),\n",
       " ('bodily_process.n.01', 3),\n",
       " ('natural_depression.n.01', 3),\n",
       " ('set.n.01', 3),\n",
       " ('writing_style.n.01', 3),\n",
       " ('gesture.n.02', 3),\n",
       " ('sound_property.n.01', 4),\n",
       " ('speech.n.02', 4),\n",
       " ('power.n.01', 4),\n",
       " ('scientist.n.01', 4),\n",
       " ('small_indefinite_quantity.n.01', 4),\n",
       " ('writing.n.04', 4),\n",
       " ('solid.n.03', 4),\n",
       " ('crystal.n.01', 4),\n",
       " ('round_shape.n.01', 4),\n",
       " ('gas.n.02', 4),\n",
       " ('line.n.11', 4),\n",
       " ('contestant.n.01', 4),\n",
       " ('molecule.n.01', 4),\n",
       " ('stream.n.01', 4),\n",
       " ('body.n.02', 4),\n",
       " ('bad_person.n.01', 5),\n",
       " ('preserver.n.03', 5),\n",
       " ('cognitive_factor.n.01', 5),\n",
       " ('landmass.n.01', 5),\n",
       " ('traveler.n.01', 5),\n",
       " ('fuel.n.01', 6),\n",
       " ('magnitude.n.01', 6),\n",
       " ('music.n.01', 6),\n",
       " ('mixture.n.01', 6),\n",
       " ('gathering.n.01', 7),\n",
       " ('line.n.04', 7),\n",
       " ('evidence.n.02', 7),\n",
       " ('expert.n.01', 7),\n",
       " ('situation.n.01', 7),\n",
       " ('ability.n.02', 7),\n",
       " ('amorphous_shape.n.01', 7),\n",
       " ('transferred_property.n.01', 8),\n",
       " ('language_unit.n.01', 8),\n",
       " ('symbol.n.01', 8),\n",
       " ('information.n.01', 8),\n",
       " ('standard.n.01', 9),\n",
       " ('capitalist.n.02', 9),\n",
       " ('point.n.02', 9),\n",
       " ('entertainer.n.01', 10),\n",
       " ('statement.n.01', 10),\n",
       " ('information.n.02', 10),\n",
       " ('assets.n.01', 11),\n",
       " ('creator.n.02', 11),\n",
       " ('visual_property.n.01', 11),\n",
       " ('communicator.n.01', 12),\n",
       " ('natural_language.n.01', 12),\n",
       " ('figure.n.06', 12),\n",
       " ('region.n.01', 13),\n",
       " ('leader.n.01', 14),\n",
       " ('inhabitant.n.01', 17),\n",
       " ('chemical_element.n.01', 17),\n",
       " ('process.n.02', 19),\n",
       " ('feeling.n.01', 20),\n",
       " ('unit_of_measurement.n.01', 21),\n",
       " ('adult.n.01', 23),\n",
       " ('writing.n.02', 25),\n",
       " ('organization.n.01', 27),\n",
       " ('condition.n.01', 27),\n",
       " ('happening.n.01', 30),\n",
       " ('relative.n.01', 30),\n",
       " ('worker.n.01', 35),\n",
       " ('natural_phenomenon.n.01', 40),\n",
       " ('time_period.n.01', 45),\n",
       " ('content.n.05', 46),\n",
       " ('food.n.02', 47),\n",
       " ('natural_object.n.01', 50),\n",
       " ('food.n.01', 52),\n",
       " ('body_part.n.01', 55),\n",
       " ('region.n.03', 67),\n",
       " ('material.n.01', 69),\n",
       " (None, 107),\n",
       " ('act.n.02', 130),\n",
       " ('living_thing.n.01', 198),\n",
       " ('artifact.n.01', 521)]"
      ]
     },
     "execution_count": 127,
     "metadata": {},
     "output_type": "execute_result"
    }
   ],
   "source": [
    "sorted(categories.items(), key=lambda x: x[1])"
   ]
  },
  {
   "cell_type": "markdown",
   "metadata": {
    "collapsed": true
   },
   "source": [
    "## One level higher for artifact.n.01"
   ]
  },
  {
   "cell_type": "code",
   "execution_count": 19,
   "metadata": {
    "collapsed": false
   },
   "outputs": [
    {
     "name": "stdout",
     "output_type": "stream",
     "text": [
      "Artifact Level 5:  24\n"
     ]
    }
   ],
   "source": [
    "categories = {}\n",
    "\n",
    "for noun in noun_list:\n",
    "    if categorize(noun, level=4): \n",
    "        category = categorize(noun, level=4)\n",
    "        if \"artifact\" in category:\n",
    "            try:\n",
    "                category = categorize(noun, level=5)\n",
    "                if category not in categories:\n",
    "                    categories[category] = 1\n",
    "                else:\n",
    "                    categories[category] = categories[category] + 1\n",
    "            except:\n",
    "                continue\n",
    "\n",
    "print(\"Artifact Level 5: \", len(categories))"
   ]
  },
  {
   "cell_type": "code",
   "execution_count": 20,
   "metadata": {
    "collapsed": false
   },
   "outputs": [
    {
     "data": {
      "text/plain": [
       "{'article.n.02': 1,\n",
       " 'block.n.01': 3,\n",
       " 'building_material.n.01': 8,\n",
       " 'commodity.n.01': 52,\n",
       " 'cone.n.01': 1,\n",
       " 'covering.n.02': 19,\n",
       " 'creation.n.02': 24,\n",
       " 'decoration.n.01': 9,\n",
       " 'excavation.n.03': 2,\n",
       " 'fabric.n.01': 15,\n",
       " 'facility.n.01': 8,\n",
       " 'fixture.n.01': 1,\n",
       " 'float.n.06': 1,\n",
       " 'instrumentality.n.03': 274,\n",
       " 'layer.n.01': 1,\n",
       " 'line.n.18': 5,\n",
       " 'padding.n.01': 1,\n",
       " 'paving.n.01': 1,\n",
       " 'plaything.n.01': 2,\n",
       " 'sheet.n.06': 3,\n",
       " 'strip.n.02': 2,\n",
       " 'structure.n.01': 70,\n",
       " 'surface.n.01': 4,\n",
       " 'way.n.06': 14}"
      ]
     },
     "execution_count": 20,
     "metadata": {},
     "output_type": "execute_result"
    }
   ],
   "source": [
    "categories"
   ]
  },
  {
   "cell_type": "markdown",
   "metadata": {},
   "source": [
    "## One Level Higher for living_thing.n.01"
   ]
  },
  {
   "cell_type": "code",
   "execution_count": 21,
   "metadata": {
    "collapsed": false
   },
   "outputs": [
    {
     "name": "stdout",
     "output_type": "stream",
     "text": [
      "Artifact Level 5:  2\n"
     ]
    }
   ],
   "source": [
    "categories = {}\n",
    "\n",
    "for noun in noun_list:\n",
    "    if categorize(noun, level=4): \n",
    "        category = categorize(noun, level=4)\n",
    "        if \"living_thing\" in category:\n",
    "            try:\n",
    "                category = categorize(noun, level=5)\n",
    "                if category not in categories:\n",
    "                    categories[category] = 1\n",
    "                else:\n",
    "                    categories[category] = categories[category] + 1\n",
    "            except:\n",
    "                continue\n",
    "\n",
    "print(\"Artifact Level 5: \", len(categories))"
   ]
  },
  {
   "cell_type": "code",
   "execution_count": 22,
   "metadata": {
    "collapsed": false
   },
   "outputs": [
    {
     "data": {
      "text/plain": [
       "{'cell.n.02': 1, 'organism.n.01': 197}"
      ]
     },
     "execution_count": 22,
     "metadata": {},
     "output_type": "execute_result"
    }
   ],
   "source": [
    "categories"
   ]
  },
  {
   "cell_type": "markdown",
   "metadata": {},
   "source": [
    "## Two Levels Higher for living_thing.n.01"
   ]
  },
  {
   "cell_type": "code",
   "execution_count": 23,
   "metadata": {
    "collapsed": false
   },
   "outputs": [
    {
     "name": "stdout",
     "output_type": "stream",
     "text": [
      "Artifact Level 5:  3\n"
     ]
    }
   ],
   "source": [
    "categories = {}\n",
    "\n",
    "for noun in noun_list:\n",
    "    if categorize(noun, level=4): \n",
    "        category = categorize(noun, level=4)\n",
    "        if \"living_thing\" in category:\n",
    "            try:\n",
    "                category = categorize(noun, level=6)\n",
    "                if category not in categories:\n",
    "                    categories[category] = 1\n",
    "                else:\n",
    "                    categories[category] = categories[category] + 1\n",
    "            except:\n",
    "                continue\n",
    "\n",
    "print(\"Artifact Level 5: \", len(categories))"
   ]
  },
  {
   "cell_type": "code",
   "execution_count": 26,
   "metadata": {
    "collapsed": false
   },
   "outputs": [
    {
     "name": "stdout",
     "output_type": "stream",
     "text": [
      "Artifact Level 5:  11\n"
     ]
    }
   ],
   "source": [
    "categories = {}\n",
    "\n",
    "for noun in noun_list:\n",
    "    if categorize(noun, level=4): \n",
    "        category = categorize(noun, level=4)\n",
    "        if \"living_thing\" in category:\n",
    "            try:\n",
    "                category = categorize(noun, level=7)\n",
    "                if category not in categories:\n",
    "                    categories[category] = 1\n",
    "                else:\n",
    "                    categories[category] = categories[category] + 1\n",
    "            except:\n",
    "                continue\n",
    "\n",
    "print(\"Artifact Level 5: \", len(categories))"
   ]
  },
  {
   "cell_type": "code",
   "execution_count": 27,
   "metadata": {
    "collapsed": false
   },
   "outputs": [
    {
     "data": {
      "text/plain": [
       "{'invertebrate.n.01': 21,\n",
       " 'giant.n.01': 1,\n",
       " 'chordate.n.01': 99,\n",
       " 'young.n.01': 4,\n",
       " 'female.n.01': 1,\n",
       " 'vascular_plant.n.01': 64,\n",
       " 'pet.n.01': 1,\n",
       " 'larva.n.01': 2,\n",
       " None: 3,\n",
       " 'gamete.n.01': 1,\n",
       " 'male.n.01': 1}"
      ]
     },
     "execution_count": 27,
     "metadata": {},
     "output_type": "execute_result"
    }
   ],
   "source": [
    "categories"
   ]
  },
  {
   "cell_type": "code",
   "execution_count": 28,
   "metadata": {
    "collapsed": false
   },
   "outputs": [
    {
     "name": "stdout",
     "output_type": "stream",
     "text": [
      "Artifact Level 5:  189\n"
     ]
    }
   ],
   "source": [
    "categories = {}\n",
    "\n",
    "for noun in noun_list:\n",
    "    if categorize(noun, level=4): \n",
    "        category = categorize(noun, level=4)\n",
    "        if \"living_thing\" in category:\n",
    "            try:\n",
    "                category = categorize(noun, level=-1)\n",
    "                if category not in categories:\n",
    "                    categories[category] = 1\n",
    "                else:\n",
    "                    categories[category] = categories[category] + 1\n",
    "            except:\n",
    "                continue\n",
    "\n",
    "print(\"Artifact Level 5: \", len(categories))"
   ]
  },
  {
   "cell_type": "code",
   "execution_count": 29,
   "metadata": {
    "collapsed": false
   },
   "outputs": [
    {
     "data": {
      "text/plain": [
       "{'aardvark.n.01': 1,\n",
       " 'abyssinian.n.01': 1,\n",
       " 'animal.n.01': 3,\n",
       " 'ant.n.01': 1,\n",
       " 'antelope.n.01': 1,\n",
       " 'armadillo.n.01': 1,\n",
       " 'asparagus.n.01': 1,\n",
       " 'baboon.n.01': 1,\n",
       " 'banana.n.01': 1,\n",
       " 'bat.n.01': 1,\n",
       " 'bear.n.01': 1,\n",
       " 'bee.n.01': 1,\n",
       " 'beech.n.01': 1,\n",
       " 'beef.n.01': 1,\n",
       " 'beet.n.01': 1,\n",
       " 'beetle.n.01': 1,\n",
       " 'begonia.n.01': 1,\n",
       " 'bird.n.01': 1,\n",
       " 'bobcat.n.01': 1,\n",
       " 'bonsai.n.01': 1,\n",
       " 'broccoli.n.01': 1,\n",
       " 'bull.n.01': 1,\n",
       " 'buzzard.n.01': 1,\n",
       " 'cactus.n.01': 1,\n",
       " 'calf.n.01': 1,\n",
       " 'camel.n.01': 1,\n",
       " 'caribou.n.01': 1,\n",
       " 'carnation.n.01': 1,\n",
       " 'cat.n.01': 1,\n",
       " 'caterpillar.n.01': 1,\n",
       " 'cattle.n.01': 1,\n",
       " 'cauliflower.n.01': 1,\n",
       " 'celery.n.01': 1,\n",
       " 'cereal.n.01': 1,\n",
       " 'chard.n.01': 1,\n",
       " 'cheetah.n.01': 1,\n",
       " 'chess.n.01': 1,\n",
       " 'chick.n.01': 1,\n",
       " 'chimpanzee.n.01': 1,\n",
       " 'chives.n.01': 1,\n",
       " 'cicada.n.01': 1,\n",
       " 'clam.n.01': 1,\n",
       " 'clover.n.01': 1,\n",
       " 'cock.n.04': 1,\n",
       " 'cockroach.n.01': 1,\n",
       " 'colt.n.01': 1,\n",
       " 'condor.n.01': 1,\n",
       " 'conifer.n.01': 1,\n",
       " 'cormorant.n.01': 1,\n",
       " 'corn.n.01': 1,\n",
       " 'cougar.n.01': 2,\n",
       " 'cow.n.01': 1,\n",
       " 'crab.n.01': 1,\n",
       " 'cricket.n.01': 1,\n",
       " 'crocodile.n.01': 1,\n",
       " 'crocus.n.01': 1,\n",
       " 'crow.n.01': 1,\n",
       " 'cucumber.n.01': 1,\n",
       " 'daffodil.n.01': 1,\n",
       " 'dahlia.n.01': 1,\n",
       " 'daisy.n.01': 1,\n",
       " 'deer.n.01': 1,\n",
       " 'dill.n.01': 1,\n",
       " 'dinosaur.n.01': 1,\n",
       " 'dog.n.01': 1,\n",
       " 'dolphinfish.n.02': 1,\n",
       " 'domestic_fowl.n.01': 2,\n",
       " 'dragonfly.n.01': 1,\n",
       " 'duck.n.01': 1,\n",
       " 'eagle.n.01': 1,\n",
       " 'egg.n.01': 1,\n",
       " 'elephant.n.01': 1,\n",
       " 'female.n.01': 1,\n",
       " 'fish.n.01': 1,\n",
       " 'flower.n.01': 1,\n",
       " 'fly.n.01': 1,\n",
       " 'fox.n.01': 1,\n",
       " 'foxglove.n.01': 1,\n",
       " 'frog.n.01': 2,\n",
       " 'gander.n.01': 1,\n",
       " 'garlic.n.01': 1,\n",
       " 'gazelle.n.01': 1,\n",
       " 'geranium.n.01': 1,\n",
       " 'giant.n.01': 1,\n",
       " 'giant_panda.n.01': 1,\n",
       " 'giraffe.n.01': 1,\n",
       " 'gladiolus.n.01': 1,\n",
       " 'goat.n.01': 1,\n",
       " 'goldfish.n.01': 1,\n",
       " 'goose.n.01': 2,\n",
       " 'gorilla.n.01': 1,\n",
       " 'gosling.n.01': 1,\n",
       " 'grass.n.01': 1,\n",
       " 'grasshopper.n.01': 1,\n",
       " 'gull.n.02': 1,\n",
       " 'hamster.n.01': 1,\n",
       " 'hawk.n.01': 1,\n",
       " 'hen.n.01': 1,\n",
       " 'hippopotamus.n.01': 1,\n",
       " 'hog.n.03': 1,\n",
       " 'horse.n.01': 1,\n",
       " 'hyena.n.01': 1,\n",
       " 'insect.n.01': 1,\n",
       " 'iris.n.01': 1,\n",
       " 'jaguar.n.01': 2,\n",
       " 'jasmine.n.01': 1,\n",
       " 'kangaroo.n.01': 1,\n",
       " 'kitten.n.01': 1,\n",
       " 'kohlrabi.n.01': 1,\n",
       " 'ladybug.n.01': 1,\n",
       " 'lamb.n.01': 1,\n",
       " 'leek.n.01': 2,\n",
       " 'lilac.n.01': 1,\n",
       " 'lily.n.01': 1,\n",
       " 'lion.n.01': 1,\n",
       " 'lizard.n.01': 1,\n",
       " 'llama.n.01': 1,\n",
       " 'locust.n.01': 1,\n",
       " 'male.n.01': 1,\n",
       " 'monkey.n.01': 1,\n",
       " 'mosquito.n.01': 1,\n",
       " 'mouse.n.01': 2,\n",
       " 'mustard.n.01': 1,\n",
       " 'narcissus.n.01': 1,\n",
       " 'ocelot.n.01': 1,\n",
       " 'orchid.n.01': 1,\n",
       " 'owl.n.01': 1,\n",
       " 'ox.n.01': 1,\n",
       " 'oyster.n.01': 1,\n",
       " 'pangolin.n.01': 1,\n",
       " 'pansy.n.01': 1,\n",
       " 'parrot.n.01': 1,\n",
       " 'pelican.n.01': 1,\n",
       " 'peony.n.01': 1,\n",
       " 'pepper.n.01': 1,\n",
       " 'pet.n.01': 1,\n",
       " 'pheasant.n.01': 1,\n",
       " 'pigeon.n.01': 1,\n",
       " 'pine.n.01': 1,\n",
       " 'popcorn.n.01': 1,\n",
       " 'poppy.n.01': 1,\n",
       " 'porcupine.n.01': 1,\n",
       " 'portuguese_man-of-war.n.01': 1,\n",
       " 'ptarmigan.n.01': 1,\n",
       " 'puffin.n.01': 1,\n",
       " 'pumpkin.n.01': 1,\n",
       " 'puppy.n.01': 1,\n",
       " 'queen.n.01': 1,\n",
       " 'quince.n.01': 1,\n",
       " 'rabbit.n.01': 1,\n",
       " 'ramie.n.01': 1,\n",
       " 'rat.n.01': 1,\n",
       " 'raven.n.01': 1,\n",
       " 'rhinoceros.n.01': 1,\n",
       " 'robin.n.01': 1,\n",
       " 'rose.n.01': 1,\n",
       " 'salmon.n.01': 1,\n",
       " 'shark.n.01': 1,\n",
       " 'sheep.n.01': 1,\n",
       " 'shrub.n.01': 1,\n",
       " 'silver_wattle.n.01': 1,\n",
       " 'snail.n.01': 1,\n",
       " 'snake.n.01': 1,\n",
       " 'sparrow.n.01': 1,\n",
       " 'spider.n.01': 1,\n",
       " 'spinach.n.01': 1,\n",
       " 'squash.n.01': 1,\n",
       " 'squirrel.n.01': 1,\n",
       " 'sturgeon.n.01': 1,\n",
       " 'sunflower.n.01': 1,\n",
       " 'swan.n.01': 1,\n",
       " 'tadpole.n.01': 1,\n",
       " 'thistle.n.01': 1,\n",
       " 'tortoise.n.01': 1,\n",
       " 'tree.n.01': 1,\n",
       " 'tulip.n.01': 1,\n",
       " 'tuna.n.01': 1,\n",
       " 'turkey.n.01': 1,\n",
       " 'turnip.n.01': 1,\n",
       " 'viola.n.01': 1,\n",
       " 'violet.n.01': 1,\n",
       " 'vulture.n.01': 1,\n",
       " 'wallaby.n.01': 1,\n",
       " 'walrus.n.01': 1,\n",
       " 'weed.n.01': 1,\n",
       " 'willow.n.01': 1,\n",
       " 'wolf.n.01': 1,\n",
       " 'worm.n.01': 1,\n",
       " 'zebra.n.01': 1}"
      ]
     },
     "execution_count": 29,
     "metadata": {},
     "output_type": "execute_result"
    }
   ],
   "source": [
    "categories"
   ]
  },
  {
   "cell_type": "code",
   "execution_count": null,
   "metadata": {
    "collapsed": true
   },
   "outputs": [],
   "source": [
    "wn."
   ]
  }
 ],
 "metadata": {
  "kernelspec": {
   "display_name": "Python 3",
   "language": "python",
   "name": "python3"
  },
  "language_info": {
   "codemirror_mode": {
    "name": "ipython",
    "version": 3
   },
   "file_extension": ".py",
   "mimetype": "text/x-python",
   "name": "python",
   "nbconvert_exporter": "python",
   "pygments_lexer": "ipython3",
   "version": "3.5.1"
  }
 },
 "nbformat": 4,
 "nbformat_minor": 0
}
