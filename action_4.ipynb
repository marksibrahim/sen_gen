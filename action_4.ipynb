{
 "cells": [
  {
   "cell_type": "code",
   "execution_count": null,
   "metadata": {
    "collapsed": true
   },
   "outputs": [],
   "source": [
    "\"\"\"\n",
    "generates Action 4, which includes paragraphs 9-16, based on elements in story.py\n",
    "\n",
    "NOTE:  arrays in INIT need to be moved to STORY\n",
    "\n",
    "\"\"\"\n",
    "import random\n",
    "\n",
    "class Par9():\n",
    "    \"\"\"\n",
    "    creates 9th paragraph based on elemnts in instance of story provided\n",
    "    \"\"\"\n",
    "    # def __init__(self, our_story):\n",
    "    #    self.story = our_story\n",
    "\n",
    "    def gen_par9(self):\n",
    "        \n",
    "        # We met for coffee and June was late.\n",
    "        # She arrived in a whirlwind of autumn leaves and red wool.\n",
    "        \n",
    "        # set pronoun\n",
    "        if self.story.narrator == \"I\":\n",
    "            pronoun = \"We\"\n",
    "        else:\n",
    "            pronoun = \"They\"\n",
    "        \n",
    "        activity = [\"met for coffee\", \"met for drinks\"]\n",
    "        \n",
    "        chosen_activity = random.choice(activity)\n",
    "        \n",
    "        sA = pronoun + \" \" + gen_par9.activity\n",
    "        \n",
    "        sB = character1.name + \" was late.\"\n",
    "        \n",
    "        s1 = sA + \" and \" + sB\n",
    "\n",
    "        return s1\n",
    "\n",
    "    def gen_dialogue2(self):\n",
    "        \n",
    "        # This dialogue runs over p10-p15.\n",
    "        \n",
    "        \"\"\"\n",
    "        line1 = \"I can't tell anyone else,\" she said. \n",
    "                \"But I didn't love Charlie. Not after we married.\"\n",
    "        \"\"\"\n",
    "        line1A = \"\\\"I can't tell anyone else,\\\" \" + \"self.story.character1_pronoun\" + \" \" + \"self.story.dialogue_v_past_singular\" + \".\" \n",
    "        line1B = \" \\\"But I didn't \" + \"VARIABLE\" + \" \" + \"self.story.character2.name\" + \".\"\n",
    "        line1C = \" Not after we \" + \"VARIABLE\" + \".\\\"\"\n",
    "        line1 = line1A + line1B + line1C\n",
    "\n",
    "        # line2 = \"But the summer day,\" I said. \"You knew. You knew.\"\n",
    "        response1 = [\"You knew. You knew.\", \"I don't understand.\", \"So then why--\"]\n",
    "        response1 = random.choice(response1)\n",
    "        line2A = \"\\\"But the \" + \"VARIABLE\" + \" day,\\\" \" + \"self.story.narrator_pronoun\" + \" \" + \"self.story.dialogue_v_past_singular\" + \".\"\n",
    "        line2B = \" \\\"\" + response1 + \"\\\"\"\n",
    "        line2 = line2A + line2B\n",
    "        \n",
    "        # line3 = \"It was the weather, I think.\"\n",
    "        line3 = \"\\\"It was the \" + \"VARIABLE\" + \", I think.\\\"\"\n",
    "        \n",
    "        \"\"\"\n",
    "        line4 = \"No.\" I didn't mean for the word to come out. My throat was dry. \n",
    "                I tried to cough, but the air was sucked out of my lungs.\n",
    "        \"\"\"\n",
    "        line4A = \"\\\"No.\\\"\" + \" \" + \"self.story.narrator_pronoun\" + \" didn't mean for the word to come out.\"\n",
    "        line4B = \" \" + \"self.story.narrator_possessive\" + \" throat was dry. \"\n",
    "        line4C = \"self.story.narrator_pronoun\" + \" tried to cough, but the air was sucked out of \" + \"self.story.narrator_possessive\" + \" my lungs.\"\n",
    "        line4 = line4A + line4B + line4C\n",
    "        \n",
    "        \"\"\"\n",
    "        line5 = \"I don't know.\" She sipped from her cup. \"I'm too romantic. \n",
    "                In love with love. In love with something else maybe.\" She shrugged. \n",
    "                \"Who knows? Am I a terrible person?\"\n",
    "        \"\"\"\n",
    "        \n",
    "        \n",
    "        # line6 = \"No,\" I said.\n",
    "    \n",
    "    \n",
    "        \n",
    "        return dialogue2\n",
    "    \n",
    "    "
   ]
  },
  {
   "cell_type": "code",
   "execution_count": 39,
   "metadata": {
    "collapsed": false,
    "scrolled": true
   },
   "outputs": [
    {
     "data": {
      "text/plain": [
       "'\"No.\" self.story.narrator_pronoun didn\\'t mean for the word to come out. self.story.narrator_possessive throat was dry. self.story.narrator_pronoun tried to cough, but the air was sucked out of self.story.narrator_possessive lungs.'"
      ]
     },
     "execution_count": 39,
     "metadata": {},
     "output_type": "execute_result"
    }
   ],
   "source": [
    "import random\n",
    "\n",
    "line4A = \"\\\"No.\\\"\" + \" \" + \"self.story.narrator_pronoun\" + \" didn't mean for the word to come out.\"\n",
    "line4B = \" \" + \"self.story.narrator_possessive\" + \" throat was dry. \"\n",
    "line4C = \"self.story.narrator_pronoun\" + \" tried to cough, but the air was sucked out of \" + \"self.story.narrator_possessive\" + \" lungs.\"\n",
    "line4 = line4A + line4B + line4C\n",
    "\n",
    "line4"
   ]
  },
  {
   "cell_type": "code",
   "execution_count": 50,
   "metadata": {
    "collapsed": false
   },
   "outputs": [
    {
     "name": "stdout",
     "output_type": "stream",
     "text": [
      "coffee\n"
     ]
    }
   ],
   "source": [
    "activity = \"met for coffee\"\n",
    "words = activity.split()\n",
    "drink = words[2]\n",
    "print(drink)"
   ]
  },
  {
   "cell_type": "code",
   "execution_count": 20,
   "metadata": {
    "collapsed": false
   },
   "outputs": [
    {
     "name": "stdout",
     "output_type": "stream",
     "text": [
      "myself\n"
     ]
    }
   ],
   "source": [
    "from nltk.corpus import names\n",
    "import random\n",
    "\n",
    "def create_character(gender, pov, plural=False):\n",
    "    \"\"\"\n",
    "    returns a character name based given gender\n",
    "    \"\"\"\n",
    "    if gender == \"male\":\n",
    "        first_name = random.choice([(name) for name in names.words('male.txt')])\n",
    "    else:\n",
    "        first_name = random.choice([(name) for name in names.words('female.txt')])\n",
    "\n",
    "    ch = {'first_name': first_name}\n",
    "\n",
    "    \"\"\"\n",
    "    returns pronouns based on:\n",
    "    gender - male, female, neuter\n",
    "    pov (point of view) - first, second, third\n",
    "    e.g, return_pronouns(\"male\", \"third\", plural=True)\n",
    "    \"\"\"\n",
    "    if pov == \"first\" and plural == False:\n",
    "        pronouns = {\n",
    "        'pronoun': 'I', \n",
    "        'object_pn': 'me', \n",
    "        'possessive': 'my', \n",
    "        'possessive_pn': 'mine', \n",
    "        'reflexive_pn': 'myself'\n",
    "        }\n",
    "        ch.update(pronouns)\n",
    "\n",
    "    return ch\n",
    "\n",
    "ch1 = create_character(\"male\", \"first\", False)\n",
    "print(ch1['reflexive_pn'])\n"
   ]
  },
  {
   "cell_type": "code",
   "execution_count": 48,
   "metadata": {
    "collapsed": false
   },
   "outputs": [],
   "source": [
    "from nltk.corpus import names\n",
    "import random\n",
    "\n",
    "class Character():\n",
    "\n",
    "    def __init__(self, gender, pov, plural):\n",
    "\n",
    "        self.gender = gender\n",
    "        self.pov = pov\n",
    "        self.plural = plural\n",
    "\n",
    "    def create_character(self):\n",
    "        '''\n",
    "        returns a character name based given gender\n",
    "        '''\n",
    "        if self.gender == 'male':\n",
    "            first_name = random.choice([(name) for name in names.words('male.txt')])\n",
    "        else:\n",
    "            first_name = random.choice([(name) for name in names.words('female.txt')])\n",
    "\n",
    "        ch = {'first_name': first_name}\n",
    "\n",
    "        '''\n",
    "        returns pronouns based on:\n",
    "        - gender: male, female, neuter\n",
    "        - pov (point of view): first, second, third\n",
    "        - plural: True or False\n",
    "        '''\n",
    "\n",
    "        if self.pov == 'first' and self.plural == False:\n",
    "            pronouns = {\n",
    "            'pronoun': 'I', \n",
    "            'object_pn': 'me', \n",
    "            'possessive': 'my', \n",
    "            'possessive_pn': 'mine', \n",
    "            'reflexive_pn': 'myself'\n",
    "            }\n",
    "            ch.update(pronouns)\n",
    "\n",
    "        elif self.pov == 'second' and self.plural == False:\n",
    "            pronouns = {\n",
    "            'pronoun': 'you', \n",
    "            'object_pn': 'you', \n",
    "            'possessive': 'your', \n",
    "            'possessive_pn': 'yours', \n",
    "            'reflexive_pn': 'yourself'\n",
    "            }\n",
    "            ch.update(pronouns)\n",
    "\n",
    "        elif self.gender == 'male' and self.pov == \"third\" and self.plural == False:\n",
    "            pronouns = {\n",
    "            'pronoun': 'he', \n",
    "            'object_pn': 'him', \n",
    "            'possessive': 'his', \n",
    "            'possessive_pn': 'his', \n",
    "            'reflexive_pn': 'himself'\n",
    "            }\n",
    "            ch.update(pronouns)\n",
    "\n",
    "        elif self.gender == 'female' and self.pov == 'third' and self.plural == False:\n",
    "            pronouns = {\n",
    "            'pronoun': 'she', \n",
    "            'object_pn': 'her', \n",
    "            'possessive': 'her', \n",
    "            'possessive_pn': 'hers', \n",
    "            'reflexive_pn': 'herself'\n",
    "            } \n",
    "            ch.update(pronouns)\n",
    "\n",
    "        elif self.gender == 'neuter' and self.pov == 'third' and self.plural == False:\n",
    "            pronouns = {\n",
    "            'pronoun': 'it', \n",
    "            'object_pn': 'it', \n",
    "            'possessive': 'its', \n",
    "            'possessive_pn': '', \n",
    "            'reflexive_pn': 'itself'\n",
    "            }\n",
    "            ch.update(pronouns)\n",
    "\n",
    "        elif self.pov == 'first' and self.plural == True:\n",
    "            pronouns = {\n",
    "            'pronoun': 'we', \n",
    "            'object_pn': 'us', \n",
    "            'possessive': 'our', \n",
    "            'possessive_pn': 'ours', \n",
    "            'reflexive_pn': 'ourselves'\n",
    "            }\n",
    "            ch.update(pronouns)\n",
    "\n",
    "        elif self.pov == 'second' and self.plural == True:\n",
    "            pronouns = {\n",
    "            'pronoun': 'you', \n",
    "            'object_pn': 'you', \n",
    "            'possessive': 'your', \n",
    "            'possessive_pn': 'yours', \n",
    "            'reflexive_pn': 'yourselves'\n",
    "            }\n",
    "            ch.update(pronouns)\n",
    "\n",
    "        elif self.pov == 'third' and self.plural == True:\n",
    "            pronouns = {\n",
    "            'pronoun': 'they', \n",
    "            'object_pn': 'them', \n",
    "            'possessive': 'their', \n",
    "            'possessive_pn': 'theirs', \n",
    "            'reflexive_pn': 'themselves'\n",
    "            }\n",
    "            ch.update(pronouns)\n",
    "\n",
    "        return ch\n",
    "\n"
   ]
  },
  {
   "cell_type": "code",
   "execution_count": 78,
   "metadata": {
    "collapsed": false
   },
   "outputs": [
    {
     "name": "stdout",
     "output_type": "stream",
     "text": [
      "Edeline\n",
      "you\n",
      "you\n",
      "your\n",
      "yours\n",
      "yourselves\n"
     ]
    }
   ],
   "source": [
    "ch = Character('female', 'second', True)\n",
    "ch1 = ch.create_character()\n",
    "\n",
    "# print(character['first_name'])\n",
    "'''\n",
    "for value in character.values():\n",
    "    print(value)\n",
    "'''\n",
    "print(\n",
    "    ch1['first_name'] + '\\n' + \n",
    "    ch1['pronoun'] + '\\n' + \n",
    "    ch1['object_pn'] + '\\n' + \n",
    "    ch1['possessive'] + '\\n' + \n",
    "    ch1['possessive_pn'] + '\\n' + \n",
    "    ch1['reflexive_pn'])\n"
   ]
  },
  {
   "cell_type": "code",
   "execution_count": null,
   "metadata": {
    "collapsed": true
   },
   "outputs": [],
   "source": []
  }
 ],
 "metadata": {
  "kernelspec": {
   "display_name": "Python 3",
   "language": "python",
   "name": "python3"
  },
  "language_info": {
   "codemirror_mode": {
    "name": "ipython",
    "version": 3
   },
   "file_extension": ".py",
   "mimetype": "text/x-python",
   "name": "python",
   "nbconvert_exporter": "python",
   "pygments_lexer": "ipython3",
   "version": "3.5.1"
  }
 },
 "nbformat": 4,
 "nbformat_minor": 0
}
